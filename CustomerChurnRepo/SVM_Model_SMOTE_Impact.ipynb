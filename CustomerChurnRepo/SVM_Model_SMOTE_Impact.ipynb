{
  "cells": [
    {
      "cell_type": "markdown",
      "metadata": {
        "id": "SLq8q6J-lsfj"
      },
      "source": [
        "# SMOTE Impact to SVM Models"
      ]
    },
    {
      "cell_type": "markdown",
      "metadata": {
        "id": "2-KgZawolsfl"
      },
      "source": [
        "We will run two SVM models, one without using SMOTE and the other one with SMOTE.\n",
        "\n",
        "We are interested to see what kind of impact SMOTE could introduce."
      ]
    },
    {
      "cell_type": "code",
      "execution_count": null,
      "metadata": {
        "execution": {
          "iopub.execute_input": "2022-11-22T04:13:57.904384Z",
          "iopub.status.busy": "2022-11-22T04:13:57.903424Z",
          "iopub.status.idle": "2022-11-22T04:14:01.859771Z",
          "shell.execute_reply": "2022-11-22T04:14:01.858801Z",
          "shell.execute_reply.started": "2022-11-22T04:13:57.904384Z"
        },
        "id": "Skpiz8OWlsfm"
      },
      "outputs": [],
      "source": [
        "import os\n",
        "\n",
        "import pandas as pd\n",
        "import numpy as np\n",
        "\n",
        "# store elements as dictionary keys and their counts as dictionary values\n",
        "from collections import Counter\n",
        "\n",
        "# scikit-learn\n",
        "from sklearn.model_selection import train_test_split\n",
        "\n",
        "from sklearn.preprocessing import MinMaxScaler, OneHotEncoder, LabelEncoder\n",
        "from sklearn.compose import ColumnTransformer, make_column_transformer\n",
        "from sklearn.pipeline import make_pipeline\n",
        "\n",
        "# Classification metrics\n",
        "from sklearn.metrics import confusion_matrix, classification_report\n",
        "\n",
        "# Function for creating model pipelines - sklearn\n",
        "from sklearn.pipeline import make_pipeline\n",
        "\n",
        "# Function for creating model pipelines - imblearn\n",
        "from imblearn.pipeline import make_pipeline as imbl_pipe\n",
        "\n",
        "# Over-sampling using SMOTE\n",
        "from imblearn.over_sampling import SMOTE\n"
      ]
    },
    {
      "cell_type": "markdown",
      "metadata": {
        "id": "7bvS13Colsfo"
      },
      "source": [
        "## Load Analytical Base Table"
      ]
    },
    {
      "cell_type": "code",
      "execution_count": null,
      "metadata": {
        "execution": {
          "iopub.execute_input": "2022-11-22T04:14:01.861742Z",
          "iopub.status.busy": "2022-11-22T04:14:01.861742Z",
          "iopub.status.idle": "2022-11-22T04:14:01.907412Z",
          "shell.execute_reply": "2022-11-22T04:14:01.906360Z",
          "shell.execute_reply.started": "2022-11-22T04:14:01.861742Z"
        },
        "colab": {
          "base_uri": "https://localhost:8080/",
          "height": 342
        },
        "id": "GuGJGAWklsfo",
        "outputId": "4a921f11-9ed5-4925-fd30-d445b44e9038"
      },
      "outputs": [
        {
          "output_type": "stream",
          "name": "stdout",
          "text": [
            "Dataframe dimensions: (14771, 40)\n"
          ]
        },
        {
          "output_type": "execute_result",
          "data": {
            "text/plain": [
              "   CUSTOMER_COD   COMPANY_COD  TERRITORY_ID  \\\n",
              "0       7781241  M100                   106   \n",
              "1       7781241  M200                   106   \n",
              "2       7781248  M200                   106   \n",
              "3       7781663  M100                   106   \n",
              "4       7781663  M200                   106   \n",
              "\n",
              "                                       TERRITORY_COD  \\\n",
              "0  M00005                                        ...   \n",
              "1  M00005                                        ...   \n",
              "2  M00005                                        ...   \n",
              "3  M00005                                        ...   \n",
              "4  M00005                                        ...   \n",
              "\n",
              "                                           TERRITORY  \\\n",
              "0  Sud                                           ...   \n",
              "1  Sud                                           ...   \n",
              "2  Sud                                           ...   \n",
              "3  Sud                                           ...   \n",
              "4  Sud                                           ...   \n",
              "\n",
              "                                   DITRIBUTION_MODEL  CUSTOMER_SEGMENT_ID  \\\n",
              "0  DIRECT                                        ...                    7   \n",
              "1  DIRECT                                        ...                    7   \n",
              "2  DIRECT                                        ...                    8   \n",
              "3  DIRECT                                        ...                    8   \n",
              "4  DIRECT                                        ...                    8   \n",
              "\n",
              "   LOCATION_ID   LOCATION_COD  \\\n",
              "0           13  M120            \n",
              "1          405  M250            \n",
              "2           21  M240            \n",
              "3           13  M120            \n",
              "4          405  M250            \n",
              "\n",
              "                                        CUSTOMER_SEG  ... Frequency Monetary  \\\n",
              "0  DL                                            ...  ...        43      9.0   \n",
              "1  DL                                            ...  ...        43      9.0   \n",
              "2  CAFE                                          ...  ...         9     40.0   \n",
              "3  CAFE                                          ...  ...        27    110.0   \n",
              "4  CAFE                                          ...  ...        27    110.0   \n",
              "\n",
              "  Recency_Score  Frequency_Score Monetary_Score RFM_Score      Segment_Label  \\\n",
              "0             1                4              0         5  Standard Customer   \n",
              "1             1                4              0         5  Standard Customer   \n",
              "2             2                0              2         4     Basic Customer   \n",
              "3             0                3              4         7  Standard Customer   \n",
              "4             0                3              4         7  Standard Customer   \n",
              "\n",
              "  Seg_Num R_Next_1Month Churn  \n",
              "0     2.0            No     1  \n",
              "1     2.0            No     1  \n",
              "2     1.0            No     2  \n",
              "3     2.0            No     1  \n",
              "4     2.0            No     1  \n",
              "\n",
              "[5 rows x 40 columns]"
            ],
            "text/html": [
              "\n",
              "  <div id=\"df-a6c6590e-9aa2-44ec-902d-d872780980cb\" class=\"colab-df-container\">\n",
              "    <div>\n",
              "<style scoped>\n",
              "    .dataframe tbody tr th:only-of-type {\n",
              "        vertical-align: middle;\n",
              "    }\n",
              "\n",
              "    .dataframe tbody tr th {\n",
              "        vertical-align: top;\n",
              "    }\n",
              "\n",
              "    .dataframe thead th {\n",
              "        text-align: right;\n",
              "    }\n",
              "</style>\n",
              "<table border=\"1\" class=\"dataframe\">\n",
              "  <thead>\n",
              "    <tr style=\"text-align: right;\">\n",
              "      <th></th>\n",
              "      <th>CUSTOMER_COD</th>\n",
              "      <th>COMPANY_COD</th>\n",
              "      <th>TERRITORY_ID</th>\n",
              "      <th>TERRITORY_COD</th>\n",
              "      <th>TERRITORY</th>\n",
              "      <th>DITRIBUTION_MODEL</th>\n",
              "      <th>CUSTOMER_SEGMENT_ID</th>\n",
              "      <th>LOCATION_ID</th>\n",
              "      <th>LOCATION_COD</th>\n",
              "      <th>CUSTOMER_SEG</th>\n",
              "      <th>...</th>\n",
              "      <th>Frequency</th>\n",
              "      <th>Monetary</th>\n",
              "      <th>Recency_Score</th>\n",
              "      <th>Frequency_Score</th>\n",
              "      <th>Monetary_Score</th>\n",
              "      <th>RFM_Score</th>\n",
              "      <th>Segment_Label</th>\n",
              "      <th>Seg_Num</th>\n",
              "      <th>R_Next_1Month</th>\n",
              "      <th>Churn</th>\n",
              "    </tr>\n",
              "  </thead>\n",
              "  <tbody>\n",
              "    <tr>\n",
              "      <th>0</th>\n",
              "      <td>7781241</td>\n",
              "      <td>M100</td>\n",
              "      <td>106</td>\n",
              "      <td>M00005                                        ...</td>\n",
              "      <td>Sud                                           ...</td>\n",
              "      <td>DIRECT                                        ...</td>\n",
              "      <td>7</td>\n",
              "      <td>13</td>\n",
              "      <td>M120</td>\n",
              "      <td>DL                                            ...</td>\n",
              "      <td>...</td>\n",
              "      <td>43</td>\n",
              "      <td>9.0</td>\n",
              "      <td>1</td>\n",
              "      <td>4</td>\n",
              "      <td>0</td>\n",
              "      <td>5</td>\n",
              "      <td>Standard Customer</td>\n",
              "      <td>2.0</td>\n",
              "      <td>No</td>\n",
              "      <td>1</td>\n",
              "    </tr>\n",
              "    <tr>\n",
              "      <th>1</th>\n",
              "      <td>7781241</td>\n",
              "      <td>M200</td>\n",
              "      <td>106</td>\n",
              "      <td>M00005                                        ...</td>\n",
              "      <td>Sud                                           ...</td>\n",
              "      <td>DIRECT                                        ...</td>\n",
              "      <td>7</td>\n",
              "      <td>405</td>\n",
              "      <td>M250</td>\n",
              "      <td>DL                                            ...</td>\n",
              "      <td>...</td>\n",
              "      <td>43</td>\n",
              "      <td>9.0</td>\n",
              "      <td>1</td>\n",
              "      <td>4</td>\n",
              "      <td>0</td>\n",
              "      <td>5</td>\n",
              "      <td>Standard Customer</td>\n",
              "      <td>2.0</td>\n",
              "      <td>No</td>\n",
              "      <td>1</td>\n",
              "    </tr>\n",
              "    <tr>\n",
              "      <th>2</th>\n",
              "      <td>7781248</td>\n",
              "      <td>M200</td>\n",
              "      <td>106</td>\n",
              "      <td>M00005                                        ...</td>\n",
              "      <td>Sud                                           ...</td>\n",
              "      <td>DIRECT                                        ...</td>\n",
              "      <td>8</td>\n",
              "      <td>21</td>\n",
              "      <td>M240</td>\n",
              "      <td>CAFE                                          ...</td>\n",
              "      <td>...</td>\n",
              "      <td>9</td>\n",
              "      <td>40.0</td>\n",
              "      <td>2</td>\n",
              "      <td>0</td>\n",
              "      <td>2</td>\n",
              "      <td>4</td>\n",
              "      <td>Basic Customer</td>\n",
              "      <td>1.0</td>\n",
              "      <td>No</td>\n",
              "      <td>2</td>\n",
              "    </tr>\n",
              "    <tr>\n",
              "      <th>3</th>\n",
              "      <td>7781663</td>\n",
              "      <td>M100</td>\n",
              "      <td>106</td>\n",
              "      <td>M00005                                        ...</td>\n",
              "      <td>Sud                                           ...</td>\n",
              "      <td>DIRECT                                        ...</td>\n",
              "      <td>8</td>\n",
              "      <td>13</td>\n",
              "      <td>M120</td>\n",
              "      <td>CAFE                                          ...</td>\n",
              "      <td>...</td>\n",
              "      <td>27</td>\n",
              "      <td>110.0</td>\n",
              "      <td>0</td>\n",
              "      <td>3</td>\n",
              "      <td>4</td>\n",
              "      <td>7</td>\n",
              "      <td>Standard Customer</td>\n",
              "      <td>2.0</td>\n",
              "      <td>No</td>\n",
              "      <td>1</td>\n",
              "    </tr>\n",
              "    <tr>\n",
              "      <th>4</th>\n",
              "      <td>7781663</td>\n",
              "      <td>M200</td>\n",
              "      <td>106</td>\n",
              "      <td>M00005                                        ...</td>\n",
              "      <td>Sud                                           ...</td>\n",
              "      <td>DIRECT                                        ...</td>\n",
              "      <td>8</td>\n",
              "      <td>405</td>\n",
              "      <td>M250</td>\n",
              "      <td>CAFE                                          ...</td>\n",
              "      <td>...</td>\n",
              "      <td>27</td>\n",
              "      <td>110.0</td>\n",
              "      <td>0</td>\n",
              "      <td>3</td>\n",
              "      <td>4</td>\n",
              "      <td>7</td>\n",
              "      <td>Standard Customer</td>\n",
              "      <td>2.0</td>\n",
              "      <td>No</td>\n",
              "      <td>1</td>\n",
              "    </tr>\n",
              "  </tbody>\n",
              "</table>\n",
              "<p>5 rows × 40 columns</p>\n",
              "</div>\n",
              "    <div class=\"colab-df-buttons\">\n",
              "\n",
              "  <div class=\"colab-df-container\">\n",
              "    <button class=\"colab-df-convert\" onclick=\"convertToInteractive('df-a6c6590e-9aa2-44ec-902d-d872780980cb')\"\n",
              "            title=\"Convert this dataframe to an interactive table.\"\n",
              "            style=\"display:none;\">\n",
              "\n",
              "  <svg xmlns=\"http://www.w3.org/2000/svg\" height=\"24px\" viewBox=\"0 -960 960 960\">\n",
              "    <path d=\"M120-120v-720h720v720H120Zm60-500h600v-160H180v160Zm220 220h160v-160H400v160Zm0 220h160v-160H400v160ZM180-400h160v-160H180v160Zm440 0h160v-160H620v160ZM180-180h160v-160H180v160Zm440 0h160v-160H620v160Z\"/>\n",
              "  </svg>\n",
              "    </button>\n",
              "\n",
              "  <style>\n",
              "    .colab-df-container {\n",
              "      display:flex;\n",
              "      gap: 12px;\n",
              "    }\n",
              "\n",
              "    .colab-df-convert {\n",
              "      background-color: #E8F0FE;\n",
              "      border: none;\n",
              "      border-radius: 50%;\n",
              "      cursor: pointer;\n",
              "      display: none;\n",
              "      fill: #1967D2;\n",
              "      height: 32px;\n",
              "      padding: 0 0 0 0;\n",
              "      width: 32px;\n",
              "    }\n",
              "\n",
              "    .colab-df-convert:hover {\n",
              "      background-color: #E2EBFA;\n",
              "      box-shadow: 0px 1px 2px rgba(60, 64, 67, 0.3), 0px 1px 3px 1px rgba(60, 64, 67, 0.15);\n",
              "      fill: #174EA6;\n",
              "    }\n",
              "\n",
              "    .colab-df-buttons div {\n",
              "      margin-bottom: 4px;\n",
              "    }\n",
              "\n",
              "    [theme=dark] .colab-df-convert {\n",
              "      background-color: #3B4455;\n",
              "      fill: #D2E3FC;\n",
              "    }\n",
              "\n",
              "    [theme=dark] .colab-df-convert:hover {\n",
              "      background-color: #434B5C;\n",
              "      box-shadow: 0px 1px 3px 1px rgba(0, 0, 0, 0.15);\n",
              "      filter: drop-shadow(0px 1px 2px rgba(0, 0, 0, 0.3));\n",
              "      fill: #FFFFFF;\n",
              "    }\n",
              "  </style>\n",
              "\n",
              "    <script>\n",
              "      const buttonEl =\n",
              "        document.querySelector('#df-a6c6590e-9aa2-44ec-902d-d872780980cb button.colab-df-convert');\n",
              "      buttonEl.style.display =\n",
              "        google.colab.kernel.accessAllowed ? 'block' : 'none';\n",
              "\n",
              "      async function convertToInteractive(key) {\n",
              "        const element = document.querySelector('#df-a6c6590e-9aa2-44ec-902d-d872780980cb');\n",
              "        const dataTable =\n",
              "          await google.colab.kernel.invokeFunction('convertToInteractive',\n",
              "                                                    [key], {});\n",
              "        if (!dataTable) return;\n",
              "\n",
              "        const docLinkHtml = 'Like what you see? Visit the ' +\n",
              "          '<a target=\"_blank\" href=https://colab.research.google.com/notebooks/data_table.ipynb>data table notebook</a>'\n",
              "          + ' to learn more about interactive tables.';\n",
              "        element.innerHTML = '';\n",
              "        dataTable['output_type'] = 'display_data';\n",
              "        await google.colab.output.renderOutput(dataTable, element);\n",
              "        const docLink = document.createElement('div');\n",
              "        docLink.innerHTML = docLinkHtml;\n",
              "        element.appendChild(docLink);\n",
              "      }\n",
              "    </script>\n",
              "  </div>\n",
              "\n",
              "\n",
              "<div id=\"df-a1b3ecaf-b872-41b0-9087-29db4d2bdb5f\">\n",
              "  <button class=\"colab-df-quickchart\" onclick=\"quickchart('df-a1b3ecaf-b872-41b0-9087-29db4d2bdb5f')\"\n",
              "            title=\"Suggest charts\"\n",
              "            style=\"display:none;\">\n",
              "\n",
              "<svg xmlns=\"http://www.w3.org/2000/svg\" height=\"24px\"viewBox=\"0 0 24 24\"\n",
              "     width=\"24px\">\n",
              "    <g>\n",
              "        <path d=\"M19 3H5c-1.1 0-2 .9-2 2v14c0 1.1.9 2 2 2h14c1.1 0 2-.9 2-2V5c0-1.1-.9-2-2-2zM9 17H7v-7h2v7zm4 0h-2V7h2v10zm4 0h-2v-4h2v4z\"/>\n",
              "    </g>\n",
              "</svg>\n",
              "  </button>\n",
              "\n",
              "<style>\n",
              "  .colab-df-quickchart {\n",
              "      --bg-color: #E8F0FE;\n",
              "      --fill-color: #1967D2;\n",
              "      --hover-bg-color: #E2EBFA;\n",
              "      --hover-fill-color: #174EA6;\n",
              "      --disabled-fill-color: #AAA;\n",
              "      --disabled-bg-color: #DDD;\n",
              "  }\n",
              "\n",
              "  [theme=dark] .colab-df-quickchart {\n",
              "      --bg-color: #3B4455;\n",
              "      --fill-color: #D2E3FC;\n",
              "      --hover-bg-color: #434B5C;\n",
              "      --hover-fill-color: #FFFFFF;\n",
              "      --disabled-bg-color: #3B4455;\n",
              "      --disabled-fill-color: #666;\n",
              "  }\n",
              "\n",
              "  .colab-df-quickchart {\n",
              "    background-color: var(--bg-color);\n",
              "    border: none;\n",
              "    border-radius: 50%;\n",
              "    cursor: pointer;\n",
              "    display: none;\n",
              "    fill: var(--fill-color);\n",
              "    height: 32px;\n",
              "    padding: 0;\n",
              "    width: 32px;\n",
              "  }\n",
              "\n",
              "  .colab-df-quickchart:hover {\n",
              "    background-color: var(--hover-bg-color);\n",
              "    box-shadow: 0 1px 2px rgba(60, 64, 67, 0.3), 0 1px 3px 1px rgba(60, 64, 67, 0.15);\n",
              "    fill: var(--button-hover-fill-color);\n",
              "  }\n",
              "\n",
              "  .colab-df-quickchart-complete:disabled,\n",
              "  .colab-df-quickchart-complete:disabled:hover {\n",
              "    background-color: var(--disabled-bg-color);\n",
              "    fill: var(--disabled-fill-color);\n",
              "    box-shadow: none;\n",
              "  }\n",
              "\n",
              "  .colab-df-spinner {\n",
              "    border: 2px solid var(--fill-color);\n",
              "    border-color: transparent;\n",
              "    border-bottom-color: var(--fill-color);\n",
              "    animation:\n",
              "      spin 1s steps(1) infinite;\n",
              "  }\n",
              "\n",
              "  @keyframes spin {\n",
              "    0% {\n",
              "      border-color: transparent;\n",
              "      border-bottom-color: var(--fill-color);\n",
              "      border-left-color: var(--fill-color);\n",
              "    }\n",
              "    20% {\n",
              "      border-color: transparent;\n",
              "      border-left-color: var(--fill-color);\n",
              "      border-top-color: var(--fill-color);\n",
              "    }\n",
              "    30% {\n",
              "      border-color: transparent;\n",
              "      border-left-color: var(--fill-color);\n",
              "      border-top-color: var(--fill-color);\n",
              "      border-right-color: var(--fill-color);\n",
              "    }\n",
              "    40% {\n",
              "      border-color: transparent;\n",
              "      border-right-color: var(--fill-color);\n",
              "      border-top-color: var(--fill-color);\n",
              "    }\n",
              "    60% {\n",
              "      border-color: transparent;\n",
              "      border-right-color: var(--fill-color);\n",
              "    }\n",
              "    80% {\n",
              "      border-color: transparent;\n",
              "      border-right-color: var(--fill-color);\n",
              "      border-bottom-color: var(--fill-color);\n",
              "    }\n",
              "    90% {\n",
              "      border-color: transparent;\n",
              "      border-bottom-color: var(--fill-color);\n",
              "    }\n",
              "  }\n",
              "</style>\n",
              "\n",
              "  <script>\n",
              "    async function quickchart(key) {\n",
              "      const quickchartButtonEl =\n",
              "        document.querySelector('#' + key + ' button');\n",
              "      quickchartButtonEl.disabled = true;  // To prevent multiple clicks.\n",
              "      quickchartButtonEl.classList.add('colab-df-spinner');\n",
              "      try {\n",
              "        const charts = await google.colab.kernel.invokeFunction(\n",
              "            'suggestCharts', [key], {});\n",
              "      } catch (error) {\n",
              "        console.error('Error during call to suggestCharts:', error);\n",
              "      }\n",
              "      quickchartButtonEl.classList.remove('colab-df-spinner');\n",
              "      quickchartButtonEl.classList.add('colab-df-quickchart-complete');\n",
              "    }\n",
              "    (() => {\n",
              "      let quickchartButtonEl =\n",
              "        document.querySelector('#df-a1b3ecaf-b872-41b0-9087-29db4d2bdb5f button');\n",
              "      quickchartButtonEl.style.display =\n",
              "        google.colab.kernel.accessAllowed ? 'block' : 'none';\n",
              "    })();\n",
              "  </script>\n",
              "</div>\n",
              "\n",
              "    </div>\n",
              "  </div>\n"
            ],
            "application/vnd.google.colaboratory.intrinsic+json": {
              "type": "dataframe",
              "variable_name": "df"
            }
          },
          "metadata": {},
          "execution_count": 2
        }
      ],
      "source": [
        "df = pd.read_csv(os.path.join(\"/content/complete_churn_df3\"))\n",
        "print(f\"Dataframe dimensions: {df.shape}\")\n",
        "df.head()"
      ]
    },
    {
      "cell_type": "markdown",
      "source": [],
      "metadata": {
        "id": "6nC7jzJfGBoL"
      }
    },
    {
      "cell_type": "code",
      "source": [
        "df = df.drop(columns=['DITRIBUTION_MODEL','CUSTOMER_SEGMENT_ID','TERRITORY_ID','TERRITORY_COD','LOCATION_ID','R_Next_1Month','LOCATION_COD','CUSTOMER_SEG','OCCASION','CANAL_COD','OCCASION_COD','CUSTOMER_CATEGORY_COD','SIGN','HYBRID_DISTRIBUTOR_ID','CREDIT'])"
      ],
      "metadata": {
        "id": "jCs0hk_caENw"
      },
      "execution_count": null,
      "outputs": []
    },
    {
      "cell_type": "markdown",
      "metadata": {
        "id": "Q4fjPXwrVPZd"
      },
      "source": [
        "### Separate dataframe into separate object"
      ]
    },
    {
      "cell_type": "code",
      "source": [
        "\n",
        "# Convert specified ID columns to categorical\n",
        "id_columns_to_convert = [\n",
        "\n",
        "    'SALES_ROUTE',\n",
        "    'CUSTOMER_COD'\n",
        "]\n",
        "\n",
        "for col in id_columns_to_convert:\n",
        "    df[col] = df[col].astype('category')\n",
        "\n",
        "# Verify the changes\n",
        "print(df.dtypes)\n"
      ],
      "metadata": {
        "colab": {
          "base_uri": "https://localhost:8080/"
        },
        "id": "rtKJCbv9aMGi",
        "outputId": "bcbfd107-3f4d-4789-fbb0-142624e39dc1"
      },
      "execution_count": null,
      "outputs": [
        {
          "output_type": "stream",
          "name": "stdout",
          "text": [
            "CUSTOMER_COD         category\n",
            "COMPANY_COD            object\n",
            "TERRITORY              object\n",
            "CANAL                  object\n",
            "CUSTOMER_CATEGORY      object\n",
            "OPPORTUNITY            object\n",
            "SEGMENT                object\n",
            "CITY                   object\n",
            "DISCOUNT_COD           object\n",
            "SEGMENTATION           object\n",
            "COM_DELETE             object\n",
            "SOC_DELETE             object\n",
            "GEN_DELETE             object\n",
            "PARTNER_CLASS          object\n",
            "SALES_ROUTE          category\n",
            "Recency                 int64\n",
            "Frequency               int64\n",
            "Monetary              float64\n",
            "Recency_Score           int64\n",
            "Frequency_Score         int64\n",
            "Monetary_Score          int64\n",
            "RFM_Score               int64\n",
            "Segment_Label          object\n",
            "Seg_Num               float64\n",
            "Churn                   int64\n",
            "dtype: object\n"
          ]
        }
      ]
    },
    {
      "cell_type": "markdown",
      "metadata": {
        "id": "jSWMmZu4lsfp"
      },
      "source": [
        "### Separate dataframe into separate object"
      ]
    },
    {
      "cell_type": "code",
      "execution_count": null,
      "metadata": {
        "execution": {
          "iopub.execute_input": "2022-11-22T04:14:01.908411Z",
          "iopub.status.busy": "2022-11-22T04:14:01.908411Z",
          "iopub.status.idle": "2022-11-22T04:14:01.922527Z",
          "shell.execute_reply": "2022-11-22T04:14:01.921755Z",
          "shell.execute_reply.started": "2022-11-22T04:14:01.908411Z"
        },
        "colab": {
          "base_uri": "https://localhost:8080/"
        },
        "id": "wjQeaCzGlsfp",
        "outputId": "74cc8725-ac0c-413a-de95-912a468f03c7"
      },
      "outputs": [
        {
          "output_type": "stream",
          "name": "stdout",
          "text": [
            "(14771, 24) (14771,)\n"
          ]
        }
      ],
      "source": [
        "# Object for target variable\n",
        "y = df.Churn\n",
        "\n",
        "# object for input features\n",
        "X = df.drop(['Churn'], axis=1)\n",
        "\n",
        "# display shapes of X and y\n",
        "print(X.shape, y.shape)"
      ]
    },
    {
      "cell_type": "code",
      "execution_count": null,
      "metadata": {
        "execution": {
          "iopub.execute_input": "2022-11-22T04:14:01.924527Z",
          "iopub.status.busy": "2022-11-22T04:14:01.923571Z",
          "iopub.status.idle": "2022-11-22T04:14:01.938526Z",
          "shell.execute_reply": "2022-11-22T04:14:01.937556Z",
          "shell.execute_reply.started": "2022-11-22T04:14:01.924527Z"
        },
        "colab": {
          "base_uri": "https://localhost:8080/"
        },
        "id": "MlmcIE37lsfp",
        "outputId": "f9d7f6ae-26ed-4ef7-fdd1-5bdd151f25bc"
      },
      "outputs": [
        {
          "output_type": "execute_result",
          "data": {
            "text/plain": [
              "['Recency',\n",
              " 'Frequency',\n",
              " 'Monetary',\n",
              " 'Recency_Score',\n",
              " 'Frequency_Score',\n",
              " 'Monetary_Score',\n",
              " 'RFM_Score',\n",
              " 'Seg_Num']"
            ]
          },
          "metadata": {},
          "execution_count": 8
        }
      ],
      "source": [
        "# List numerical features\n",
        "num_columns = X.select_dtypes(include='number').columns.tolist()\n",
        "num_columns"
      ]
    },
    {
      "cell_type": "code",
      "execution_count": null,
      "metadata": {
        "execution": {
          "iopub.execute_input": "2022-11-22T04:14:01.939526Z",
          "iopub.status.busy": "2022-11-22T04:14:01.939526Z",
          "iopub.status.idle": "2022-11-22T04:14:01.953527Z",
          "shell.execute_reply": "2022-11-22T04:14:01.952827Z",
          "shell.execute_reply.started": "2022-11-22T04:14:01.939526Z"
        },
        "colab": {
          "base_uri": "https://localhost:8080/"
        },
        "id": "Rz8z84mUlsfq",
        "outputId": "0a8e9afd-bb90-4759-fb9d-143a8c8d8dab"
      },
      "outputs": [
        {
          "output_type": "execute_result",
          "data": {
            "text/plain": [
              "['COMPANY_COD',\n",
              " 'TERRITORY',\n",
              " 'CANAL',\n",
              " 'CUSTOMER_CATEGORY',\n",
              " 'OPPORTUNITY',\n",
              " 'SEGMENT',\n",
              " 'CITY',\n",
              " 'DISCOUNT_COD',\n",
              " 'SEGMENTATION',\n",
              " 'COM_DELETE',\n",
              " 'SOC_DELETE',\n",
              " 'GEN_DELETE',\n",
              " 'PARTNER_CLASS',\n",
              " 'Segment_Label']"
            ]
          },
          "metadata": {},
          "execution_count": 9
        }
      ],
      "source": [
        "# List categorical features\n",
        "cat_columns = X.select_dtypes(include='object').columns.tolist()\n",
        "cat_columns"
      ]
    },
    {
      "cell_type": "code",
      "execution_count": null,
      "metadata": {
        "execution": {
          "iopub.execute_input": "2022-11-22T04:14:01.954526Z",
          "iopub.status.busy": "2022-11-22T04:14:01.954526Z",
          "iopub.status.idle": "2022-11-22T04:14:01.969540Z",
          "shell.execute_reply": "2022-11-22T04:14:01.968837Z",
          "shell.execute_reply.started": "2022-11-22T04:14:01.954526Z"
        },
        "id": "R1Q1nP8Qlsfq"
      },
      "outputs": [],
      "source": [
        "def class_count(a):\n",
        "    counter=Counter(a)\n",
        "    kv=[list(counter.keys()),list(counter.values())]\n",
        "    dff = pd.DataFrame(np.array(kv).T, columns=['Exited','Count'])\n",
        "    dff['Count'] = dff['Count'].astype('int64')\n",
        "    dff['%'] = round(dff['Count'] / a.shape[0] * 100, 2)\n",
        "    return dff.sort_values('Count',ascending=False)"
      ]
    },
    {
      "cell_type": "code",
      "execution_count": null,
      "metadata": {
        "execution": {
          "iopub.execute_input": "2022-11-22T04:14:01.971551Z",
          "iopub.status.busy": "2022-11-22T04:14:01.970546Z",
          "iopub.status.idle": "2022-11-22T04:14:02.000481Z",
          "shell.execute_reply": "2022-11-22T04:14:01.999786Z",
          "shell.execute_reply.started": "2022-11-22T04:14:01.971551Z"
        },
        "colab": {
          "base_uri": "https://localhost:8080/",
          "height": 175
        },
        "id": "G124LZVNlsfq",
        "outputId": "2e185073-7b92-42ac-d759-d1150437fd4f"
      },
      "outputs": [
        {
          "output_type": "execute_result",
          "data": {
            "text/plain": [
              "   Exited  Count      %\n",
              "0       1   5273  35.70\n",
              "2       3   4016  27.19\n",
              "1       2   3193  21.62\n",
              "3       0   2289  15.50"
            ],
            "text/html": [
              "\n",
              "  <div id=\"df-cfb594b2-b669-4699-8687-db87efb285ef\" class=\"colab-df-container\">\n",
              "    <div>\n",
              "<style scoped>\n",
              "    .dataframe tbody tr th:only-of-type {\n",
              "        vertical-align: middle;\n",
              "    }\n",
              "\n",
              "    .dataframe tbody tr th {\n",
              "        vertical-align: top;\n",
              "    }\n",
              "\n",
              "    .dataframe thead th {\n",
              "        text-align: right;\n",
              "    }\n",
              "</style>\n",
              "<table border=\"1\" class=\"dataframe\">\n",
              "  <thead>\n",
              "    <tr style=\"text-align: right;\">\n",
              "      <th></th>\n",
              "      <th>Exited</th>\n",
              "      <th>Count</th>\n",
              "      <th>%</th>\n",
              "    </tr>\n",
              "  </thead>\n",
              "  <tbody>\n",
              "    <tr>\n",
              "      <th>0</th>\n",
              "      <td>1</td>\n",
              "      <td>5273</td>\n",
              "      <td>35.70</td>\n",
              "    </tr>\n",
              "    <tr>\n",
              "      <th>2</th>\n",
              "      <td>3</td>\n",
              "      <td>4016</td>\n",
              "      <td>27.19</td>\n",
              "    </tr>\n",
              "    <tr>\n",
              "      <th>1</th>\n",
              "      <td>2</td>\n",
              "      <td>3193</td>\n",
              "      <td>21.62</td>\n",
              "    </tr>\n",
              "    <tr>\n",
              "      <th>3</th>\n",
              "      <td>0</td>\n",
              "      <td>2289</td>\n",
              "      <td>15.50</td>\n",
              "    </tr>\n",
              "  </tbody>\n",
              "</table>\n",
              "</div>\n",
              "    <div class=\"colab-df-buttons\">\n",
              "\n",
              "  <div class=\"colab-df-container\">\n",
              "    <button class=\"colab-df-convert\" onclick=\"convertToInteractive('df-cfb594b2-b669-4699-8687-db87efb285ef')\"\n",
              "            title=\"Convert this dataframe to an interactive table.\"\n",
              "            style=\"display:none;\">\n",
              "\n",
              "  <svg xmlns=\"http://www.w3.org/2000/svg\" height=\"24px\" viewBox=\"0 -960 960 960\">\n",
              "    <path d=\"M120-120v-720h720v720H120Zm60-500h600v-160H180v160Zm220 220h160v-160H400v160Zm0 220h160v-160H400v160ZM180-400h160v-160H180v160Zm440 0h160v-160H620v160ZM180-180h160v-160H180v160Zm440 0h160v-160H620v160Z\"/>\n",
              "  </svg>\n",
              "    </button>\n",
              "\n",
              "  <style>\n",
              "    .colab-df-container {\n",
              "      display:flex;\n",
              "      gap: 12px;\n",
              "    }\n",
              "\n",
              "    .colab-df-convert {\n",
              "      background-color: #E8F0FE;\n",
              "      border: none;\n",
              "      border-radius: 50%;\n",
              "      cursor: pointer;\n",
              "      display: none;\n",
              "      fill: #1967D2;\n",
              "      height: 32px;\n",
              "      padding: 0 0 0 0;\n",
              "      width: 32px;\n",
              "    }\n",
              "\n",
              "    .colab-df-convert:hover {\n",
              "      background-color: #E2EBFA;\n",
              "      box-shadow: 0px 1px 2px rgba(60, 64, 67, 0.3), 0px 1px 3px 1px rgba(60, 64, 67, 0.15);\n",
              "      fill: #174EA6;\n",
              "    }\n",
              "\n",
              "    .colab-df-buttons div {\n",
              "      margin-bottom: 4px;\n",
              "    }\n",
              "\n",
              "    [theme=dark] .colab-df-convert {\n",
              "      background-color: #3B4455;\n",
              "      fill: #D2E3FC;\n",
              "    }\n",
              "\n",
              "    [theme=dark] .colab-df-convert:hover {\n",
              "      background-color: #434B5C;\n",
              "      box-shadow: 0px 1px 3px 1px rgba(0, 0, 0, 0.15);\n",
              "      filter: drop-shadow(0px 1px 2px rgba(0, 0, 0, 0.3));\n",
              "      fill: #FFFFFF;\n",
              "    }\n",
              "  </style>\n",
              "\n",
              "    <script>\n",
              "      const buttonEl =\n",
              "        document.querySelector('#df-cfb594b2-b669-4699-8687-db87efb285ef button.colab-df-convert');\n",
              "      buttonEl.style.display =\n",
              "        google.colab.kernel.accessAllowed ? 'block' : 'none';\n",
              "\n",
              "      async function convertToInteractive(key) {\n",
              "        const element = document.querySelector('#df-cfb594b2-b669-4699-8687-db87efb285ef');\n",
              "        const dataTable =\n",
              "          await google.colab.kernel.invokeFunction('convertToInteractive',\n",
              "                                                    [key], {});\n",
              "        if (!dataTable) return;\n",
              "\n",
              "        const docLinkHtml = 'Like what you see? Visit the ' +\n",
              "          '<a target=\"_blank\" href=https://colab.research.google.com/notebooks/data_table.ipynb>data table notebook</a>'\n",
              "          + ' to learn more about interactive tables.';\n",
              "        element.innerHTML = '';\n",
              "        dataTable['output_type'] = 'display_data';\n",
              "        await google.colab.output.renderOutput(dataTable, element);\n",
              "        const docLink = document.createElement('div');\n",
              "        docLink.innerHTML = docLinkHtml;\n",
              "        element.appendChild(docLink);\n",
              "      }\n",
              "    </script>\n",
              "  </div>\n",
              "\n",
              "\n",
              "<div id=\"df-d43f8d43-fa63-4fad-91df-2473cf50614d\">\n",
              "  <button class=\"colab-df-quickchart\" onclick=\"quickchart('df-d43f8d43-fa63-4fad-91df-2473cf50614d')\"\n",
              "            title=\"Suggest charts\"\n",
              "            style=\"display:none;\">\n",
              "\n",
              "<svg xmlns=\"http://www.w3.org/2000/svg\" height=\"24px\"viewBox=\"0 0 24 24\"\n",
              "     width=\"24px\">\n",
              "    <g>\n",
              "        <path d=\"M19 3H5c-1.1 0-2 .9-2 2v14c0 1.1.9 2 2 2h14c1.1 0 2-.9 2-2V5c0-1.1-.9-2-2-2zM9 17H7v-7h2v7zm4 0h-2V7h2v10zm4 0h-2v-4h2v4z\"/>\n",
              "    </g>\n",
              "</svg>\n",
              "  </button>\n",
              "\n",
              "<style>\n",
              "  .colab-df-quickchart {\n",
              "      --bg-color: #E8F0FE;\n",
              "      --fill-color: #1967D2;\n",
              "      --hover-bg-color: #E2EBFA;\n",
              "      --hover-fill-color: #174EA6;\n",
              "      --disabled-fill-color: #AAA;\n",
              "      --disabled-bg-color: #DDD;\n",
              "  }\n",
              "\n",
              "  [theme=dark] .colab-df-quickchart {\n",
              "      --bg-color: #3B4455;\n",
              "      --fill-color: #D2E3FC;\n",
              "      --hover-bg-color: #434B5C;\n",
              "      --hover-fill-color: #FFFFFF;\n",
              "      --disabled-bg-color: #3B4455;\n",
              "      --disabled-fill-color: #666;\n",
              "  }\n",
              "\n",
              "  .colab-df-quickchart {\n",
              "    background-color: var(--bg-color);\n",
              "    border: none;\n",
              "    border-radius: 50%;\n",
              "    cursor: pointer;\n",
              "    display: none;\n",
              "    fill: var(--fill-color);\n",
              "    height: 32px;\n",
              "    padding: 0;\n",
              "    width: 32px;\n",
              "  }\n",
              "\n",
              "  .colab-df-quickchart:hover {\n",
              "    background-color: var(--hover-bg-color);\n",
              "    box-shadow: 0 1px 2px rgba(60, 64, 67, 0.3), 0 1px 3px 1px rgba(60, 64, 67, 0.15);\n",
              "    fill: var(--button-hover-fill-color);\n",
              "  }\n",
              "\n",
              "  .colab-df-quickchart-complete:disabled,\n",
              "  .colab-df-quickchart-complete:disabled:hover {\n",
              "    background-color: var(--disabled-bg-color);\n",
              "    fill: var(--disabled-fill-color);\n",
              "    box-shadow: none;\n",
              "  }\n",
              "\n",
              "  .colab-df-spinner {\n",
              "    border: 2px solid var(--fill-color);\n",
              "    border-color: transparent;\n",
              "    border-bottom-color: var(--fill-color);\n",
              "    animation:\n",
              "      spin 1s steps(1) infinite;\n",
              "  }\n",
              "\n",
              "  @keyframes spin {\n",
              "    0% {\n",
              "      border-color: transparent;\n",
              "      border-bottom-color: var(--fill-color);\n",
              "      border-left-color: var(--fill-color);\n",
              "    }\n",
              "    20% {\n",
              "      border-color: transparent;\n",
              "      border-left-color: var(--fill-color);\n",
              "      border-top-color: var(--fill-color);\n",
              "    }\n",
              "    30% {\n",
              "      border-color: transparent;\n",
              "      border-left-color: var(--fill-color);\n",
              "      border-top-color: var(--fill-color);\n",
              "      border-right-color: var(--fill-color);\n",
              "    }\n",
              "    40% {\n",
              "      border-color: transparent;\n",
              "      border-right-color: var(--fill-color);\n",
              "      border-top-color: var(--fill-color);\n",
              "    }\n",
              "    60% {\n",
              "      border-color: transparent;\n",
              "      border-right-color: var(--fill-color);\n",
              "    }\n",
              "    80% {\n",
              "      border-color: transparent;\n",
              "      border-right-color: var(--fill-color);\n",
              "      border-bottom-color: var(--fill-color);\n",
              "    }\n",
              "    90% {\n",
              "      border-color: transparent;\n",
              "      border-bottom-color: var(--fill-color);\n",
              "    }\n",
              "  }\n",
              "</style>\n",
              "\n",
              "  <script>\n",
              "    async function quickchart(key) {\n",
              "      const quickchartButtonEl =\n",
              "        document.querySelector('#' + key + ' button');\n",
              "      quickchartButtonEl.disabled = true;  // To prevent multiple clicks.\n",
              "      quickchartButtonEl.classList.add('colab-df-spinner');\n",
              "      try {\n",
              "        const charts = await google.colab.kernel.invokeFunction(\n",
              "            'suggestCharts', [key], {});\n",
              "      } catch (error) {\n",
              "        console.error('Error during call to suggestCharts:', error);\n",
              "      }\n",
              "      quickchartButtonEl.classList.remove('colab-df-spinner');\n",
              "      quickchartButtonEl.classList.add('colab-df-quickchart-complete');\n",
              "    }\n",
              "    (() => {\n",
              "      let quickchartButtonEl =\n",
              "        document.querySelector('#df-d43f8d43-fa63-4fad-91df-2473cf50614d button');\n",
              "      quickchartButtonEl.style.display =\n",
              "        google.colab.kernel.accessAllowed ? 'block' : 'none';\n",
              "    })();\n",
              "  </script>\n",
              "</div>\n",
              "\n",
              "    </div>\n",
              "  </div>\n"
            ],
            "application/vnd.google.colaboratory.intrinsic+json": {
              "type": "dataframe",
              "summary": "{\n  \"name\": \"class_count(y)\",\n  \"rows\": 4,\n  \"fields\": [\n    {\n      \"column\": \"Exited\",\n      \"properties\": {\n        \"dtype\": \"number\",\n        \"std\": 1,\n        \"min\": 0,\n        \"max\": 3,\n        \"num_unique_values\": 4,\n        \"samples\": [\n          3,\n          0,\n          1\n        ],\n        \"semantic_type\": \"\",\n        \"description\": \"\"\n      }\n    },\n    {\n      \"column\": \"Count\",\n      \"properties\": {\n        \"dtype\": \"number\",\n        \"std\": 1267,\n        \"min\": 2289,\n        \"max\": 5273,\n        \"num_unique_values\": 4,\n        \"samples\": [\n          4016,\n          2289,\n          5273\n        ],\n        \"semantic_type\": \"\",\n        \"description\": \"\"\n      }\n    },\n    {\n      \"column\": \"%\",\n      \"properties\": {\n        \"dtype\": \"number\",\n        \"std\": 8.58216124683443,\n        \"min\": 15.5,\n        \"max\": 35.7,\n        \"num_unique_values\": 4,\n        \"samples\": [\n          27.19,\n          15.5,\n          35.7\n        ],\n        \"semantic_type\": \"\",\n        \"description\": \"\"\n      }\n    }\n  ]\n}"
            }
          },
          "metadata": {},
          "execution_count": 11
        }
      ],
      "source": [
        "class_count(y)"
      ]
    },
    {
      "cell_type": "markdown",
      "metadata": {
        "id": "e4hmWkWIlsfr"
      },
      "source": [
        "## Create a Train Test Split"
      ]
    },
    {
      "cell_type": "code",
      "execution_count": null,
      "metadata": {
        "execution": {
          "iopub.execute_input": "2022-11-22T04:14:02.001477Z",
          "iopub.status.busy": "2022-11-22T04:14:02.001477Z",
          "iopub.status.idle": "2022-11-22T04:14:02.016474Z",
          "shell.execute_reply": "2022-11-22T04:14:02.015538Z",
          "shell.execute_reply.started": "2022-11-22T04:14:02.001477Z"
        },
        "colab": {
          "base_uri": "https://localhost:8080/"
        },
        "id": "I7R20meblsfr",
        "outputId": "f56233ba-e598-4cf4-a0c5-fa754eeb02db"
      },
      "outputs": [
        {
          "output_type": "stream",
          "name": "stdout",
          "text": [
            "10339 4432 10339 4432\n"
          ]
        }
      ],
      "source": [
        "random_state = 10\n",
        "\n",
        "# Split X and y into train and test sets\n",
        "from sklearn.model_selection import train_test_split\n",
        "X_train, X_test, y_train, y_test = train_test_split(X, y, test_size=0.3,\n",
        "                                                    random_state=random_state,\n",
        "                                                   stratify=df.Churn)\n",
        "\n",
        "# Print number of observations in X_train, X_test, y_train, and y_test\n",
        "print(len(X_train), len(X_test), len(y_train), len(y_test))"
      ]
    },
    {
      "cell_type": "code",
      "execution_count": null,
      "metadata": {
        "execution": {
          "iopub.execute_input": "2022-11-22T04:14:02.017471Z",
          "iopub.status.busy": "2022-11-22T04:14:02.017471Z",
          "iopub.status.idle": "2022-11-22T04:14:02.031504Z",
          "shell.execute_reply": "2022-11-22T04:14:02.030756Z",
          "shell.execute_reply.started": "2022-11-22T04:14:02.017471Z"
        },
        "colab": {
          "base_uri": "https://localhost:8080/"
        },
        "id": "o9_-9WPLlsfr",
        "outputId": "b8a6b3b1-8d4f-41f2-b91e-a6623c893be7"
      },
      "outputs": [
        {
          "output_type": "stream",
          "name": "stdout",
          "text": [
            "<class 'pandas.core.frame.DataFrame'>\n",
            "Index: 10339 entries, 10164 to 13781\n",
            "Data columns (total 24 columns):\n",
            " #   Column             Non-Null Count  Dtype   \n",
            "---  ------             --------------  -----   \n",
            " 0   CUSTOMER_COD       10339 non-null  category\n",
            " 1   COMPANY_COD        10339 non-null  object  \n",
            " 2   TERRITORY          10339 non-null  object  \n",
            " 3   CANAL              10339 non-null  object  \n",
            " 4   CUSTOMER_CATEGORY  10339 non-null  object  \n",
            " 5   OPPORTUNITY        10339 non-null  object  \n",
            " 6   SEGMENT            10339 non-null  object  \n",
            " 7   CITY               10339 non-null  object  \n",
            " 8   DISCOUNT_COD       10339 non-null  object  \n",
            " 9   SEGMENTATION       10339 non-null  object  \n",
            " 10  COM_DELETE         10339 non-null  object  \n",
            " 11  SOC_DELETE         10339 non-null  object  \n",
            " 12  GEN_DELETE         10339 non-null  object  \n",
            " 13  PARTNER_CLASS      10339 non-null  object  \n",
            " 14  SALES_ROUTE        10339 non-null  category\n",
            " 15  Recency            10339 non-null  int64   \n",
            " 16  Frequency          10339 non-null  int64   \n",
            " 17  Monetary           10339 non-null  float64 \n",
            " 18  Recency_Score      10339 non-null  int64   \n",
            " 19  Frequency_Score    10339 non-null  int64   \n",
            " 20  Monetary_Score     10339 non-null  int64   \n",
            " 21  RFM_Score          10339 non-null  int64   \n",
            " 22  Segment_Label      10339 non-null  object  \n",
            " 23  Seg_Num            10339 non-null  float64 \n",
            "dtypes: category(2), float64(2), int64(6), object(14)\n",
            "memory usage: 2.5+ MB\n"
          ]
        }
      ],
      "source": [
        "X_train.info()"
      ]
    },
    {
      "cell_type": "markdown",
      "metadata": {
        "id": "yZK0kxt0lsfs"
      },
      "source": [
        "## Pre-processing Pipeline"
      ]
    },
    {
      "cell_type": "markdown",
      "metadata": {
        "id": "aPDgl9jclsfs"
      },
      "source": [
        "### Scale numerical data and encode categorical data\n",
        "Construct a pre-processing pipeline from the given transformers: MinMaxScaler and OneHotEncoder"
      ]
    },
    {
      "cell_type": "markdown",
      "metadata": {
        "id": "DrKJY9eClsfs"
      },
      "source": [
        "Create lists of indexes from the list of column names\n",
        "\n",
        "Need to be numeric not string to specify columns name in column transformer"
      ]
    },
    {
      "cell_type": "code",
      "execution_count": null,
      "metadata": {
        "execution": {
          "iopub.execute_input": "2022-11-22T04:14:02.034474Z",
          "iopub.status.busy": "2022-11-22T04:14:02.033472Z",
          "iopub.status.idle": "2022-11-22T04:14:02.047475Z",
          "shell.execute_reply": "2022-11-22T04:14:02.046488Z",
          "shell.execute_reply.started": "2022-11-22T04:14:02.034474Z"
        },
        "colab": {
          "base_uri": "https://localhost:8080/"
        },
        "id": "4btrtYk7lsfs",
        "outputId": "22bc820c-1d95-4baa-d3f7-e1496e70ca8d"
      },
      "outputs": [
        {
          "output_type": "stream",
          "name": "stdout",
          "text": [
            "[15, 16, 17, 18, 19, 20, 21, 23]\n"
          ]
        }
      ],
      "source": [
        "num_features = []\n",
        "\n",
        "for i in num_columns:\n",
        "    location = X.columns.get_loc(i)\n",
        "    num_features.append(location)\n",
        "print(num_features)"
      ]
    },
    {
      "cell_type": "code",
      "execution_count": null,
      "metadata": {
        "execution": {
          "iopub.execute_input": "2022-11-22T04:14:02.049474Z",
          "iopub.status.busy": "2022-11-22T04:14:02.048508Z",
          "iopub.status.idle": "2022-11-22T04:14:02.063472Z",
          "shell.execute_reply": "2022-11-22T04:14:02.062752Z",
          "shell.execute_reply.started": "2022-11-22T04:14:02.049474Z"
        },
        "colab": {
          "base_uri": "https://localhost:8080/"
        },
        "id": "ruPNtNnElsfs",
        "outputId": "c9e7878a-82b9-493a-f0ee-ed92a7ed8cfa"
      },
      "outputs": [
        {
          "output_type": "stream",
          "name": "stdout",
          "text": [
            "[1, 2, 3, 4, 5, 6, 7, 8, 9, 10, 11, 12, 13, 22]\n"
          ]
        }
      ],
      "source": [
        "cat_features = []\n",
        "\n",
        "for i in cat_columns:\n",
        "    location = X.columns.get_loc(i)\n",
        "    cat_features.append(location)\n",
        "print(cat_features)"
      ]
    },
    {
      "cell_type": "code",
      "execution_count": null,
      "metadata": {
        "execution": {
          "iopub.execute_input": "2022-11-22T04:14:02.064506Z",
          "iopub.status.busy": "2022-11-22T04:14:02.064506Z",
          "iopub.status.idle": "2022-11-22T04:14:02.079481Z",
          "shell.execute_reply": "2022-11-22T04:14:02.078765Z",
          "shell.execute_reply.started": "2022-11-22T04:14:02.064506Z"
        },
        "colab": {
          "base_uri": "https://localhost:8080/",
          "height": 118
        },
        "id": "52WGvmVSlsft",
        "outputId": "f33906b1-1117-44f7-951f-b4952718d9d5"
      },
      "outputs": [
        {
          "output_type": "execute_result",
          "data": {
            "text/plain": [
              "ColumnTransformer(transformers=[('minmaxscaler', MinMaxScaler(),\n",
              "                                 [15, 16, 17, 18, 19, 20, 21, 23]),\n",
              "                                ('onehotencoder',\n",
              "                                 OneHotEncoder(handle_unknown='ignore'),\n",
              "                                 [1, 2, 3, 4, 5, 6, 7, 8, 9, 10, 11, 12, 13,\n",
              "                                  22])])"
            ],
            "text/html": [
              "<style>#sk-container-id-1 {color: black;background-color: white;}#sk-container-id-1 pre{padding: 0;}#sk-container-id-1 div.sk-toggleable {background-color: white;}#sk-container-id-1 label.sk-toggleable__label {cursor: pointer;display: block;width: 100%;margin-bottom: 0;padding: 0.3em;box-sizing: border-box;text-align: center;}#sk-container-id-1 label.sk-toggleable__label-arrow:before {content: \"▸\";float: left;margin-right: 0.25em;color: #696969;}#sk-container-id-1 label.sk-toggleable__label-arrow:hover:before {color: black;}#sk-container-id-1 div.sk-estimator:hover label.sk-toggleable__label-arrow:before {color: black;}#sk-container-id-1 div.sk-toggleable__content {max-height: 0;max-width: 0;overflow: hidden;text-align: left;background-color: #f0f8ff;}#sk-container-id-1 div.sk-toggleable__content pre {margin: 0.2em;color: black;border-radius: 0.25em;background-color: #f0f8ff;}#sk-container-id-1 input.sk-toggleable__control:checked~div.sk-toggleable__content {max-height: 200px;max-width: 100%;overflow: auto;}#sk-container-id-1 input.sk-toggleable__control:checked~label.sk-toggleable__label-arrow:before {content: \"▾\";}#sk-container-id-1 div.sk-estimator input.sk-toggleable__control:checked~label.sk-toggleable__label {background-color: #d4ebff;}#sk-container-id-1 div.sk-label input.sk-toggleable__control:checked~label.sk-toggleable__label {background-color: #d4ebff;}#sk-container-id-1 input.sk-hidden--visually {border: 0;clip: rect(1px 1px 1px 1px);clip: rect(1px, 1px, 1px, 1px);height: 1px;margin: -1px;overflow: hidden;padding: 0;position: absolute;width: 1px;}#sk-container-id-1 div.sk-estimator {font-family: monospace;background-color: #f0f8ff;border: 1px dotted black;border-radius: 0.25em;box-sizing: border-box;margin-bottom: 0.5em;}#sk-container-id-1 div.sk-estimator:hover {background-color: #d4ebff;}#sk-container-id-1 div.sk-parallel-item::after {content: \"\";width: 100%;border-bottom: 1px solid gray;flex-grow: 1;}#sk-container-id-1 div.sk-label:hover label.sk-toggleable__label {background-color: #d4ebff;}#sk-container-id-1 div.sk-serial::before {content: \"\";position: absolute;border-left: 1px solid gray;box-sizing: border-box;top: 0;bottom: 0;left: 50%;z-index: 0;}#sk-container-id-1 div.sk-serial {display: flex;flex-direction: column;align-items: center;background-color: white;padding-right: 0.2em;padding-left: 0.2em;position: relative;}#sk-container-id-1 div.sk-item {position: relative;z-index: 1;}#sk-container-id-1 div.sk-parallel {display: flex;align-items: stretch;justify-content: center;background-color: white;position: relative;}#sk-container-id-1 div.sk-item::before, #sk-container-id-1 div.sk-parallel-item::before {content: \"\";position: absolute;border-left: 1px solid gray;box-sizing: border-box;top: 0;bottom: 0;left: 50%;z-index: -1;}#sk-container-id-1 div.sk-parallel-item {display: flex;flex-direction: column;z-index: 1;position: relative;background-color: white;}#sk-container-id-1 div.sk-parallel-item:first-child::after {align-self: flex-end;width: 50%;}#sk-container-id-1 div.sk-parallel-item:last-child::after {align-self: flex-start;width: 50%;}#sk-container-id-1 div.sk-parallel-item:only-child::after {width: 0;}#sk-container-id-1 div.sk-dashed-wrapped {border: 1px dashed gray;margin: 0 0.4em 0.5em 0.4em;box-sizing: border-box;padding-bottom: 0.4em;background-color: white;}#sk-container-id-1 div.sk-label label {font-family: monospace;font-weight: bold;display: inline-block;line-height: 1.2em;}#sk-container-id-1 div.sk-label-container {text-align: center;}#sk-container-id-1 div.sk-container {/* jupyter's `normalize.less` sets `[hidden] { display: none; }` but bootstrap.min.css set `[hidden] { display: none !important; }` so we also need the `!important` here to be able to override the default hidden behavior on the sphinx rendered scikit-learn.org. See: https://github.com/scikit-learn/scikit-learn/issues/21755 */display: inline-block !important;position: relative;}#sk-container-id-1 div.sk-text-repr-fallback {display: none;}</style><div id=\"sk-container-id-1\" class=\"sk-top-container\"><div class=\"sk-text-repr-fallback\"><pre>ColumnTransformer(transformers=[(&#x27;minmaxscaler&#x27;, MinMaxScaler(),\n",
              "                                 [15, 16, 17, 18, 19, 20, 21, 23]),\n",
              "                                (&#x27;onehotencoder&#x27;,\n",
              "                                 OneHotEncoder(handle_unknown=&#x27;ignore&#x27;),\n",
              "                                 [1, 2, 3, 4, 5, 6, 7, 8, 9, 10, 11, 12, 13,\n",
              "                                  22])])</pre><b>In a Jupyter environment, please rerun this cell to show the HTML representation or trust the notebook. <br />On GitHub, the HTML representation is unable to render, please try loading this page with nbviewer.org.</b></div><div class=\"sk-container\" hidden><div class=\"sk-item sk-dashed-wrapped\"><div class=\"sk-label-container\"><div class=\"sk-label sk-toggleable\"><input class=\"sk-toggleable__control sk-hidden--visually\" id=\"sk-estimator-id-1\" type=\"checkbox\" ><label for=\"sk-estimator-id-1\" class=\"sk-toggleable__label sk-toggleable__label-arrow\">ColumnTransformer</label><div class=\"sk-toggleable__content\"><pre>ColumnTransformer(transformers=[(&#x27;minmaxscaler&#x27;, MinMaxScaler(),\n",
              "                                 [15, 16, 17, 18, 19, 20, 21, 23]),\n",
              "                                (&#x27;onehotencoder&#x27;,\n",
              "                                 OneHotEncoder(handle_unknown=&#x27;ignore&#x27;),\n",
              "                                 [1, 2, 3, 4, 5, 6, 7, 8, 9, 10, 11, 12, 13,\n",
              "                                  22])])</pre></div></div></div><div class=\"sk-parallel\"><div class=\"sk-parallel-item\"><div class=\"sk-item\"><div class=\"sk-label-container\"><div class=\"sk-label sk-toggleable\"><input class=\"sk-toggleable__control sk-hidden--visually\" id=\"sk-estimator-id-2\" type=\"checkbox\" ><label for=\"sk-estimator-id-2\" class=\"sk-toggleable__label sk-toggleable__label-arrow\">minmaxscaler</label><div class=\"sk-toggleable__content\"><pre>[15, 16, 17, 18, 19, 20, 21, 23]</pre></div></div></div><div class=\"sk-serial\"><div class=\"sk-item\"><div class=\"sk-estimator sk-toggleable\"><input class=\"sk-toggleable__control sk-hidden--visually\" id=\"sk-estimator-id-3\" type=\"checkbox\" ><label for=\"sk-estimator-id-3\" class=\"sk-toggleable__label sk-toggleable__label-arrow\">MinMaxScaler</label><div class=\"sk-toggleable__content\"><pre>MinMaxScaler()</pre></div></div></div></div></div></div><div class=\"sk-parallel-item\"><div class=\"sk-item\"><div class=\"sk-label-container\"><div class=\"sk-label sk-toggleable\"><input class=\"sk-toggleable__control sk-hidden--visually\" id=\"sk-estimator-id-4\" type=\"checkbox\" ><label for=\"sk-estimator-id-4\" class=\"sk-toggleable__label sk-toggleable__label-arrow\">onehotencoder</label><div class=\"sk-toggleable__content\"><pre>[1, 2, 3, 4, 5, 6, 7, 8, 9, 10, 11, 12, 13, 22]</pre></div></div></div><div class=\"sk-serial\"><div class=\"sk-item\"><div class=\"sk-estimator sk-toggleable\"><input class=\"sk-toggleable__control sk-hidden--visually\" id=\"sk-estimator-id-5\" type=\"checkbox\" ><label for=\"sk-estimator-id-5\" class=\"sk-toggleable__label sk-toggleable__label-arrow\">OneHotEncoder</label><div class=\"sk-toggleable__content\"><pre>OneHotEncoder(handle_unknown=&#x27;ignore&#x27;)</pre></div></div></div></div></div></div></div></div></div></div>"
            ]
          },
          "metadata": {},
          "execution_count": 16
        }
      ],
      "source": [
        "# Define column transformer\n",
        "# Need to be numeric not string to specify columns name\n",
        "preprocess = make_column_transformer(\n",
        "    (MinMaxScaler(), num_features),\n",
        "    (OneHotEncoder(handle_unknown='ignore'), cat_features)\n",
        ")\n",
        "preprocess"
      ]
    },
    {
      "cell_type": "markdown",
      "metadata": {
        "id": "aE2YGUH2lsft"
      },
      "source": [
        "## Build Model Pipeline without SMOTE\n",
        "\n",
        "* To see the impact of SMOTE to our results, wew will first build our pipeline without SMOTE"
      ]
    },
    {
      "cell_type": "code",
      "execution_count": null,
      "metadata": {
        "execution": {
          "iopub.execute_input": "2022-11-22T04:14:02.080509Z",
          "iopub.status.busy": "2022-11-22T04:14:02.080509Z",
          "iopub.status.idle": "2022-11-22T04:14:02.095010Z",
          "shell.execute_reply": "2022-11-22T04:14:02.094041Z",
          "shell.execute_reply.started": "2022-11-22T04:14:02.080509Z"
        },
        "colab": {
          "base_uri": "https://localhost:8080/",
          "height": 192
        },
        "id": "qCKsLf_Jlsft",
        "outputId": "35d97b1d-528b-4156-c9c8-08fd91879e92"
      },
      "outputs": [
        {
          "output_type": "execute_result",
          "data": {
            "text/plain": [
              "Pipeline(steps=[('columntransformer',\n",
              "                 ColumnTransformer(transformers=[('minmaxscaler',\n",
              "                                                  MinMaxScaler(),\n",
              "                                                  [15, 16, 17, 18, 19, 20, 21,\n",
              "                                                   23]),\n",
              "                                                 ('onehotencoder',\n",
              "                                                  OneHotEncoder(handle_unknown='ignore'),\n",
              "                                                  [1, 2, 3, 4, 5, 6, 7, 8, 9,\n",
              "                                                   10, 11, 12, 13, 22])])),\n",
              "                ('svc', SVC(random_state=10))])"
            ],
            "text/html": [
              "<style>#sk-container-id-2 {color: black;background-color: white;}#sk-container-id-2 pre{padding: 0;}#sk-container-id-2 div.sk-toggleable {background-color: white;}#sk-container-id-2 label.sk-toggleable__label {cursor: pointer;display: block;width: 100%;margin-bottom: 0;padding: 0.3em;box-sizing: border-box;text-align: center;}#sk-container-id-2 label.sk-toggleable__label-arrow:before {content: \"▸\";float: left;margin-right: 0.25em;color: #696969;}#sk-container-id-2 label.sk-toggleable__label-arrow:hover:before {color: black;}#sk-container-id-2 div.sk-estimator:hover label.sk-toggleable__label-arrow:before {color: black;}#sk-container-id-2 div.sk-toggleable__content {max-height: 0;max-width: 0;overflow: hidden;text-align: left;background-color: #f0f8ff;}#sk-container-id-2 div.sk-toggleable__content pre {margin: 0.2em;color: black;border-radius: 0.25em;background-color: #f0f8ff;}#sk-container-id-2 input.sk-toggleable__control:checked~div.sk-toggleable__content {max-height: 200px;max-width: 100%;overflow: auto;}#sk-container-id-2 input.sk-toggleable__control:checked~label.sk-toggleable__label-arrow:before {content: \"▾\";}#sk-container-id-2 div.sk-estimator input.sk-toggleable__control:checked~label.sk-toggleable__label {background-color: #d4ebff;}#sk-container-id-2 div.sk-label input.sk-toggleable__control:checked~label.sk-toggleable__label {background-color: #d4ebff;}#sk-container-id-2 input.sk-hidden--visually {border: 0;clip: rect(1px 1px 1px 1px);clip: rect(1px, 1px, 1px, 1px);height: 1px;margin: -1px;overflow: hidden;padding: 0;position: absolute;width: 1px;}#sk-container-id-2 div.sk-estimator {font-family: monospace;background-color: #f0f8ff;border: 1px dotted black;border-radius: 0.25em;box-sizing: border-box;margin-bottom: 0.5em;}#sk-container-id-2 div.sk-estimator:hover {background-color: #d4ebff;}#sk-container-id-2 div.sk-parallel-item::after {content: \"\";width: 100%;border-bottom: 1px solid gray;flex-grow: 1;}#sk-container-id-2 div.sk-label:hover label.sk-toggleable__label {background-color: #d4ebff;}#sk-container-id-2 div.sk-serial::before {content: \"\";position: absolute;border-left: 1px solid gray;box-sizing: border-box;top: 0;bottom: 0;left: 50%;z-index: 0;}#sk-container-id-2 div.sk-serial {display: flex;flex-direction: column;align-items: center;background-color: white;padding-right: 0.2em;padding-left: 0.2em;position: relative;}#sk-container-id-2 div.sk-item {position: relative;z-index: 1;}#sk-container-id-2 div.sk-parallel {display: flex;align-items: stretch;justify-content: center;background-color: white;position: relative;}#sk-container-id-2 div.sk-item::before, #sk-container-id-2 div.sk-parallel-item::before {content: \"\";position: absolute;border-left: 1px solid gray;box-sizing: border-box;top: 0;bottom: 0;left: 50%;z-index: -1;}#sk-container-id-2 div.sk-parallel-item {display: flex;flex-direction: column;z-index: 1;position: relative;background-color: white;}#sk-container-id-2 div.sk-parallel-item:first-child::after {align-self: flex-end;width: 50%;}#sk-container-id-2 div.sk-parallel-item:last-child::after {align-self: flex-start;width: 50%;}#sk-container-id-2 div.sk-parallel-item:only-child::after {width: 0;}#sk-container-id-2 div.sk-dashed-wrapped {border: 1px dashed gray;margin: 0 0.4em 0.5em 0.4em;box-sizing: border-box;padding-bottom: 0.4em;background-color: white;}#sk-container-id-2 div.sk-label label {font-family: monospace;font-weight: bold;display: inline-block;line-height: 1.2em;}#sk-container-id-2 div.sk-label-container {text-align: center;}#sk-container-id-2 div.sk-container {/* jupyter's `normalize.less` sets `[hidden] { display: none; }` but bootstrap.min.css set `[hidden] { display: none !important; }` so we also need the `!important` here to be able to override the default hidden behavior on the sphinx rendered scikit-learn.org. See: https://github.com/scikit-learn/scikit-learn/issues/21755 */display: inline-block !important;position: relative;}#sk-container-id-2 div.sk-text-repr-fallback {display: none;}</style><div id=\"sk-container-id-2\" class=\"sk-top-container\"><div class=\"sk-text-repr-fallback\"><pre>Pipeline(steps=[(&#x27;columntransformer&#x27;,\n",
              "                 ColumnTransformer(transformers=[(&#x27;minmaxscaler&#x27;,\n",
              "                                                  MinMaxScaler(),\n",
              "                                                  [15, 16, 17, 18, 19, 20, 21,\n",
              "                                                   23]),\n",
              "                                                 (&#x27;onehotencoder&#x27;,\n",
              "                                                  OneHotEncoder(handle_unknown=&#x27;ignore&#x27;),\n",
              "                                                  [1, 2, 3, 4, 5, 6, 7, 8, 9,\n",
              "                                                   10, 11, 12, 13, 22])])),\n",
              "                (&#x27;svc&#x27;, SVC(random_state=10))])</pre><b>In a Jupyter environment, please rerun this cell to show the HTML representation or trust the notebook. <br />On GitHub, the HTML representation is unable to render, please try loading this page with nbviewer.org.</b></div><div class=\"sk-container\" hidden><div class=\"sk-item sk-dashed-wrapped\"><div class=\"sk-label-container\"><div class=\"sk-label sk-toggleable\"><input class=\"sk-toggleable__control sk-hidden--visually\" id=\"sk-estimator-id-6\" type=\"checkbox\" ><label for=\"sk-estimator-id-6\" class=\"sk-toggleable__label sk-toggleable__label-arrow\">Pipeline</label><div class=\"sk-toggleable__content\"><pre>Pipeline(steps=[(&#x27;columntransformer&#x27;,\n",
              "                 ColumnTransformer(transformers=[(&#x27;minmaxscaler&#x27;,\n",
              "                                                  MinMaxScaler(),\n",
              "                                                  [15, 16, 17, 18, 19, 20, 21,\n",
              "                                                   23]),\n",
              "                                                 (&#x27;onehotencoder&#x27;,\n",
              "                                                  OneHotEncoder(handle_unknown=&#x27;ignore&#x27;),\n",
              "                                                  [1, 2, 3, 4, 5, 6, 7, 8, 9,\n",
              "                                                   10, 11, 12, 13, 22])])),\n",
              "                (&#x27;svc&#x27;, SVC(random_state=10))])</pre></div></div></div><div class=\"sk-serial\"><div class=\"sk-item sk-dashed-wrapped\"><div class=\"sk-label-container\"><div class=\"sk-label sk-toggleable\"><input class=\"sk-toggleable__control sk-hidden--visually\" id=\"sk-estimator-id-7\" type=\"checkbox\" ><label for=\"sk-estimator-id-7\" class=\"sk-toggleable__label sk-toggleable__label-arrow\">columntransformer: ColumnTransformer</label><div class=\"sk-toggleable__content\"><pre>ColumnTransformer(transformers=[(&#x27;minmaxscaler&#x27;, MinMaxScaler(),\n",
              "                                 [15, 16, 17, 18, 19, 20, 21, 23]),\n",
              "                                (&#x27;onehotencoder&#x27;,\n",
              "                                 OneHotEncoder(handle_unknown=&#x27;ignore&#x27;),\n",
              "                                 [1, 2, 3, 4, 5, 6, 7, 8, 9, 10, 11, 12, 13,\n",
              "                                  22])])</pre></div></div></div><div class=\"sk-parallel\"><div class=\"sk-parallel-item\"><div class=\"sk-item\"><div class=\"sk-label-container\"><div class=\"sk-label sk-toggleable\"><input class=\"sk-toggleable__control sk-hidden--visually\" id=\"sk-estimator-id-8\" type=\"checkbox\" ><label for=\"sk-estimator-id-8\" class=\"sk-toggleable__label sk-toggleable__label-arrow\">minmaxscaler</label><div class=\"sk-toggleable__content\"><pre>[15, 16, 17, 18, 19, 20, 21, 23]</pre></div></div></div><div class=\"sk-serial\"><div class=\"sk-item\"><div class=\"sk-estimator sk-toggleable\"><input class=\"sk-toggleable__control sk-hidden--visually\" id=\"sk-estimator-id-9\" type=\"checkbox\" ><label for=\"sk-estimator-id-9\" class=\"sk-toggleable__label sk-toggleable__label-arrow\">MinMaxScaler</label><div class=\"sk-toggleable__content\"><pre>MinMaxScaler()</pre></div></div></div></div></div></div><div class=\"sk-parallel-item\"><div class=\"sk-item\"><div class=\"sk-label-container\"><div class=\"sk-label sk-toggleable\"><input class=\"sk-toggleable__control sk-hidden--visually\" id=\"sk-estimator-id-10\" type=\"checkbox\" ><label for=\"sk-estimator-id-10\" class=\"sk-toggleable__label sk-toggleable__label-arrow\">onehotencoder</label><div class=\"sk-toggleable__content\"><pre>[1, 2, 3, 4, 5, 6, 7, 8, 9, 10, 11, 12, 13, 22]</pre></div></div></div><div class=\"sk-serial\"><div class=\"sk-item\"><div class=\"sk-estimator sk-toggleable\"><input class=\"sk-toggleable__control sk-hidden--visually\" id=\"sk-estimator-id-11\" type=\"checkbox\" ><label for=\"sk-estimator-id-11\" class=\"sk-toggleable__label sk-toggleable__label-arrow\">OneHotEncoder</label><div class=\"sk-toggleable__content\"><pre>OneHotEncoder(handle_unknown=&#x27;ignore&#x27;)</pre></div></div></div></div></div></div></div></div><div class=\"sk-item\"><div class=\"sk-estimator sk-toggleable\"><input class=\"sk-toggleable__control sk-hidden--visually\" id=\"sk-estimator-id-12\" type=\"checkbox\" ><label for=\"sk-estimator-id-12\" class=\"sk-toggleable__label sk-toggleable__label-arrow\">SVC</label><div class=\"sk-toggleable__content\"><pre>SVC(random_state=10)</pre></div></div></div></div></div></div></div>"
            ]
          },
          "metadata": {},
          "execution_count": 17
        }
      ],
      "source": [
        "# Import classifier\n",
        "from sklearn.svm import SVC\n",
        "\n",
        "# Define model with pipeline\n",
        "model = imbl_pipe(preprocess,\n",
        "                  SVC(random_state=random_state))\n",
        "\n",
        "model"
      ]
    },
    {
      "cell_type": "code",
      "execution_count": null,
      "metadata": {
        "execution": {
          "iopub.execute_input": "2022-11-22T04:14:02.096010Z",
          "iopub.status.busy": "2022-11-22T04:14:02.095010Z",
          "iopub.status.idle": "2022-11-22T04:14:02.111010Z",
          "shell.execute_reply": "2022-11-22T04:14:02.110295Z",
          "shell.execute_reply.started": "2022-11-22T04:14:02.096010Z"
        },
        "id": "8-wjJ5jdlsft"
      },
      "outputs": [],
      "source": [
        "# Create the GridSearchCV model\n",
        "# Create the GridSearch estimator along with a parameter object containing the values to adjust\n",
        "from sklearn.model_selection import GridSearchCV\n",
        "param_grid = {'svc__kernel' : ['linear', 'rbf'],\n",
        "              'svc__C': [0.001, 0.1, 0.5],\n",
        "              'svc__gamma': [1, 0.1, 0.01]}\n",
        "grid = GridSearchCV(model, param_grid, verbose=3, cv= 3, n_jobs=2)\n"
      ]
    },
    {
      "cell_type": "code",
      "execution_count": null,
      "metadata": {
        "execution": {
          "iopub.execute_input": "2022-11-22T04:14:02.112011Z",
          "iopub.status.busy": "2022-11-22T04:14:02.112011Z",
          "iopub.status.idle": "2022-11-22T04:14:02.127011Z",
          "shell.execute_reply": "2022-11-22T04:14:02.126040Z",
          "shell.execute_reply.started": "2022-11-22T04:14:02.112011Z"
        },
        "id": "7fw8SZWzlsfu"
      },
      "outputs": [],
      "source": [
        "X_train = X_train.values\n",
        "X_test = X_test.values"
      ]
    },
    {
      "cell_type": "code",
      "execution_count": null,
      "metadata": {
        "execution": {
          "iopub.execute_input": "2022-11-22T04:14:02.128009Z",
          "iopub.status.busy": "2022-11-22T04:14:02.128009Z",
          "iopub.status.idle": "2022-11-22T04:20:24.241060Z",
          "shell.execute_reply": "2022-11-22T04:20:24.240058Z",
          "shell.execute_reply.started": "2022-11-22T04:14:02.128009Z"
        },
        "scrolled": true,
        "colab": {
          "base_uri": "https://localhost:8080/",
          "height": 236
        },
        "id": "qZ88vUQalsfu",
        "outputId": "280b2095-a326-4caa-be87-a482ed1fc866"
      },
      "outputs": [
        {
          "output_type": "stream",
          "name": "stdout",
          "text": [
            "Fitting 3 folds for each of 18 candidates, totalling 54 fits\n"
          ]
        },
        {
          "output_type": "execute_result",
          "data": {
            "text/plain": [
              "GridSearchCV(cv=3,\n",
              "             estimator=Pipeline(steps=[('columntransformer',\n",
              "                                        ColumnTransformer(transformers=[('minmaxscaler',\n",
              "                                                                         MinMaxScaler(),\n",
              "                                                                         [15,\n",
              "                                                                          16,\n",
              "                                                                          17,\n",
              "                                                                          18,\n",
              "                                                                          19,\n",
              "                                                                          20,\n",
              "                                                                          21,\n",
              "                                                                          23]),\n",
              "                                                                        ('onehotencoder',\n",
              "                                                                         OneHotEncoder(handle_unknown='ignore'),\n",
              "                                                                         [1, 2,\n",
              "                                                                          3, 4,\n",
              "                                                                          5, 6,\n",
              "                                                                          7, 8,\n",
              "                                                                          9, 10,\n",
              "                                                                          11,\n",
              "                                                                          12,\n",
              "                                                                          13,\n",
              "                                                                          22])])),\n",
              "                                       ('svc', SVC(random_state=10))]),\n",
              "             n_jobs=2,\n",
              "             param_grid={'svc__C': [0.001, 0.1, 0.5],\n",
              "                         'svc__gamma': [1, 0.1, 0.01],\n",
              "                         'svc__kernel': ['linear', 'rbf']},\n",
              "             verbose=3)"
            ],
            "text/html": [
              "<style>#sk-container-id-3 {color: black;background-color: white;}#sk-container-id-3 pre{padding: 0;}#sk-container-id-3 div.sk-toggleable {background-color: white;}#sk-container-id-3 label.sk-toggleable__label {cursor: pointer;display: block;width: 100%;margin-bottom: 0;padding: 0.3em;box-sizing: border-box;text-align: center;}#sk-container-id-3 label.sk-toggleable__label-arrow:before {content: \"▸\";float: left;margin-right: 0.25em;color: #696969;}#sk-container-id-3 label.sk-toggleable__label-arrow:hover:before {color: black;}#sk-container-id-3 div.sk-estimator:hover label.sk-toggleable__label-arrow:before {color: black;}#sk-container-id-3 div.sk-toggleable__content {max-height: 0;max-width: 0;overflow: hidden;text-align: left;background-color: #f0f8ff;}#sk-container-id-3 div.sk-toggleable__content pre {margin: 0.2em;color: black;border-radius: 0.25em;background-color: #f0f8ff;}#sk-container-id-3 input.sk-toggleable__control:checked~div.sk-toggleable__content {max-height: 200px;max-width: 100%;overflow: auto;}#sk-container-id-3 input.sk-toggleable__control:checked~label.sk-toggleable__label-arrow:before {content: \"▾\";}#sk-container-id-3 div.sk-estimator input.sk-toggleable__control:checked~label.sk-toggleable__label {background-color: #d4ebff;}#sk-container-id-3 div.sk-label input.sk-toggleable__control:checked~label.sk-toggleable__label {background-color: #d4ebff;}#sk-container-id-3 input.sk-hidden--visually {border: 0;clip: rect(1px 1px 1px 1px);clip: rect(1px, 1px, 1px, 1px);height: 1px;margin: -1px;overflow: hidden;padding: 0;position: absolute;width: 1px;}#sk-container-id-3 div.sk-estimator {font-family: monospace;background-color: #f0f8ff;border: 1px dotted black;border-radius: 0.25em;box-sizing: border-box;margin-bottom: 0.5em;}#sk-container-id-3 div.sk-estimator:hover {background-color: #d4ebff;}#sk-container-id-3 div.sk-parallel-item::after {content: \"\";width: 100%;border-bottom: 1px solid gray;flex-grow: 1;}#sk-container-id-3 div.sk-label:hover label.sk-toggleable__label {background-color: #d4ebff;}#sk-container-id-3 div.sk-serial::before {content: \"\";position: absolute;border-left: 1px solid gray;box-sizing: border-box;top: 0;bottom: 0;left: 50%;z-index: 0;}#sk-container-id-3 div.sk-serial {display: flex;flex-direction: column;align-items: center;background-color: white;padding-right: 0.2em;padding-left: 0.2em;position: relative;}#sk-container-id-3 div.sk-item {position: relative;z-index: 1;}#sk-container-id-3 div.sk-parallel {display: flex;align-items: stretch;justify-content: center;background-color: white;position: relative;}#sk-container-id-3 div.sk-item::before, #sk-container-id-3 div.sk-parallel-item::before {content: \"\";position: absolute;border-left: 1px solid gray;box-sizing: border-box;top: 0;bottom: 0;left: 50%;z-index: -1;}#sk-container-id-3 div.sk-parallel-item {display: flex;flex-direction: column;z-index: 1;position: relative;background-color: white;}#sk-container-id-3 div.sk-parallel-item:first-child::after {align-self: flex-end;width: 50%;}#sk-container-id-3 div.sk-parallel-item:last-child::after {align-self: flex-start;width: 50%;}#sk-container-id-3 div.sk-parallel-item:only-child::after {width: 0;}#sk-container-id-3 div.sk-dashed-wrapped {border: 1px dashed gray;margin: 0 0.4em 0.5em 0.4em;box-sizing: border-box;padding-bottom: 0.4em;background-color: white;}#sk-container-id-3 div.sk-label label {font-family: monospace;font-weight: bold;display: inline-block;line-height: 1.2em;}#sk-container-id-3 div.sk-label-container {text-align: center;}#sk-container-id-3 div.sk-container {/* jupyter's `normalize.less` sets `[hidden] { display: none; }` but bootstrap.min.css set `[hidden] { display: none !important; }` so we also need the `!important` here to be able to override the default hidden behavior on the sphinx rendered scikit-learn.org. See: https://github.com/scikit-learn/scikit-learn/issues/21755 */display: inline-block !important;position: relative;}#sk-container-id-3 div.sk-text-repr-fallback {display: none;}</style><div id=\"sk-container-id-3\" class=\"sk-top-container\"><div class=\"sk-text-repr-fallback\"><pre>GridSearchCV(cv=3,\n",
              "             estimator=Pipeline(steps=[(&#x27;columntransformer&#x27;,\n",
              "                                        ColumnTransformer(transformers=[(&#x27;minmaxscaler&#x27;,\n",
              "                                                                         MinMaxScaler(),\n",
              "                                                                         [15,\n",
              "                                                                          16,\n",
              "                                                                          17,\n",
              "                                                                          18,\n",
              "                                                                          19,\n",
              "                                                                          20,\n",
              "                                                                          21,\n",
              "                                                                          23]),\n",
              "                                                                        (&#x27;onehotencoder&#x27;,\n",
              "                                                                         OneHotEncoder(handle_unknown=&#x27;ignore&#x27;),\n",
              "                                                                         [1, 2,\n",
              "                                                                          3, 4,\n",
              "                                                                          5, 6,\n",
              "                                                                          7, 8,\n",
              "                                                                          9, 10,\n",
              "                                                                          11,\n",
              "                                                                          12,\n",
              "                                                                          13,\n",
              "                                                                          22])])),\n",
              "                                       (&#x27;svc&#x27;, SVC(random_state=10))]),\n",
              "             n_jobs=2,\n",
              "             param_grid={&#x27;svc__C&#x27;: [0.001, 0.1, 0.5],\n",
              "                         &#x27;svc__gamma&#x27;: [1, 0.1, 0.01],\n",
              "                         &#x27;svc__kernel&#x27;: [&#x27;linear&#x27;, &#x27;rbf&#x27;]},\n",
              "             verbose=3)</pre><b>In a Jupyter environment, please rerun this cell to show the HTML representation or trust the notebook. <br />On GitHub, the HTML representation is unable to render, please try loading this page with nbviewer.org.</b></div><div class=\"sk-container\" hidden><div class=\"sk-item sk-dashed-wrapped\"><div class=\"sk-label-container\"><div class=\"sk-label sk-toggleable\"><input class=\"sk-toggleable__control sk-hidden--visually\" id=\"sk-estimator-id-13\" type=\"checkbox\" ><label for=\"sk-estimator-id-13\" class=\"sk-toggleable__label sk-toggleable__label-arrow\">GridSearchCV</label><div class=\"sk-toggleable__content\"><pre>GridSearchCV(cv=3,\n",
              "             estimator=Pipeline(steps=[(&#x27;columntransformer&#x27;,\n",
              "                                        ColumnTransformer(transformers=[(&#x27;minmaxscaler&#x27;,\n",
              "                                                                         MinMaxScaler(),\n",
              "                                                                         [15,\n",
              "                                                                          16,\n",
              "                                                                          17,\n",
              "                                                                          18,\n",
              "                                                                          19,\n",
              "                                                                          20,\n",
              "                                                                          21,\n",
              "                                                                          23]),\n",
              "                                                                        (&#x27;onehotencoder&#x27;,\n",
              "                                                                         OneHotEncoder(handle_unknown=&#x27;ignore&#x27;),\n",
              "                                                                         [1, 2,\n",
              "                                                                          3, 4,\n",
              "                                                                          5, 6,\n",
              "                                                                          7, 8,\n",
              "                                                                          9, 10,\n",
              "                                                                          11,\n",
              "                                                                          12,\n",
              "                                                                          13,\n",
              "                                                                          22])])),\n",
              "                                       (&#x27;svc&#x27;, SVC(random_state=10))]),\n",
              "             n_jobs=2,\n",
              "             param_grid={&#x27;svc__C&#x27;: [0.001, 0.1, 0.5],\n",
              "                         &#x27;svc__gamma&#x27;: [1, 0.1, 0.01],\n",
              "                         &#x27;svc__kernel&#x27;: [&#x27;linear&#x27;, &#x27;rbf&#x27;]},\n",
              "             verbose=3)</pre></div></div></div><div class=\"sk-parallel\"><div class=\"sk-parallel-item\"><div class=\"sk-item\"><div class=\"sk-label-container\"><div class=\"sk-label sk-toggleable\"><input class=\"sk-toggleable__control sk-hidden--visually\" id=\"sk-estimator-id-14\" type=\"checkbox\" ><label for=\"sk-estimator-id-14\" class=\"sk-toggleable__label sk-toggleable__label-arrow\">estimator: Pipeline</label><div class=\"sk-toggleable__content\"><pre>Pipeline(steps=[(&#x27;columntransformer&#x27;,\n",
              "                 ColumnTransformer(transformers=[(&#x27;minmaxscaler&#x27;,\n",
              "                                                  MinMaxScaler(),\n",
              "                                                  [15, 16, 17, 18, 19, 20, 21,\n",
              "                                                   23]),\n",
              "                                                 (&#x27;onehotencoder&#x27;,\n",
              "                                                  OneHotEncoder(handle_unknown=&#x27;ignore&#x27;),\n",
              "                                                  [1, 2, 3, 4, 5, 6, 7, 8, 9,\n",
              "                                                   10, 11, 12, 13, 22])])),\n",
              "                (&#x27;svc&#x27;, SVC(random_state=10))])</pre></div></div></div><div class=\"sk-serial\"><div class=\"sk-item\"><div class=\"sk-serial\"><div class=\"sk-item sk-dashed-wrapped\"><div class=\"sk-label-container\"><div class=\"sk-label sk-toggleable\"><input class=\"sk-toggleable__control sk-hidden--visually\" id=\"sk-estimator-id-15\" type=\"checkbox\" ><label for=\"sk-estimator-id-15\" class=\"sk-toggleable__label sk-toggleable__label-arrow\">columntransformer: ColumnTransformer</label><div class=\"sk-toggleable__content\"><pre>ColumnTransformer(transformers=[(&#x27;minmaxscaler&#x27;, MinMaxScaler(),\n",
              "                                 [15, 16, 17, 18, 19, 20, 21, 23]),\n",
              "                                (&#x27;onehotencoder&#x27;,\n",
              "                                 OneHotEncoder(handle_unknown=&#x27;ignore&#x27;),\n",
              "                                 [1, 2, 3, 4, 5, 6, 7, 8, 9, 10, 11, 12, 13,\n",
              "                                  22])])</pre></div></div></div><div class=\"sk-parallel\"><div class=\"sk-parallel-item\"><div class=\"sk-item\"><div class=\"sk-label-container\"><div class=\"sk-label sk-toggleable\"><input class=\"sk-toggleable__control sk-hidden--visually\" id=\"sk-estimator-id-16\" type=\"checkbox\" ><label for=\"sk-estimator-id-16\" class=\"sk-toggleable__label sk-toggleable__label-arrow\">minmaxscaler</label><div class=\"sk-toggleable__content\"><pre>[15, 16, 17, 18, 19, 20, 21, 23]</pre></div></div></div><div class=\"sk-serial\"><div class=\"sk-item\"><div class=\"sk-estimator sk-toggleable\"><input class=\"sk-toggleable__control sk-hidden--visually\" id=\"sk-estimator-id-17\" type=\"checkbox\" ><label for=\"sk-estimator-id-17\" class=\"sk-toggleable__label sk-toggleable__label-arrow\">MinMaxScaler</label><div class=\"sk-toggleable__content\"><pre>MinMaxScaler()</pre></div></div></div></div></div></div><div class=\"sk-parallel-item\"><div class=\"sk-item\"><div class=\"sk-label-container\"><div class=\"sk-label sk-toggleable\"><input class=\"sk-toggleable__control sk-hidden--visually\" id=\"sk-estimator-id-18\" type=\"checkbox\" ><label for=\"sk-estimator-id-18\" class=\"sk-toggleable__label sk-toggleable__label-arrow\">onehotencoder</label><div class=\"sk-toggleable__content\"><pre>[1, 2, 3, 4, 5, 6, 7, 8, 9, 10, 11, 12, 13, 22]</pre></div></div></div><div class=\"sk-serial\"><div class=\"sk-item\"><div class=\"sk-estimator sk-toggleable\"><input class=\"sk-toggleable__control sk-hidden--visually\" id=\"sk-estimator-id-19\" type=\"checkbox\" ><label for=\"sk-estimator-id-19\" class=\"sk-toggleable__label sk-toggleable__label-arrow\">OneHotEncoder</label><div class=\"sk-toggleable__content\"><pre>OneHotEncoder(handle_unknown=&#x27;ignore&#x27;)</pre></div></div></div></div></div></div></div></div><div class=\"sk-item\"><div class=\"sk-estimator sk-toggleable\"><input class=\"sk-toggleable__control sk-hidden--visually\" id=\"sk-estimator-id-20\" type=\"checkbox\" ><label for=\"sk-estimator-id-20\" class=\"sk-toggleable__label sk-toggleable__label-arrow\">SVC</label><div class=\"sk-toggleable__content\"><pre>SVC(random_state=10)</pre></div></div></div></div></div></div></div></div></div></div></div></div>"
            ]
          },
          "metadata": {},
          "execution_count": 20
        }
      ],
      "source": [
        "# Train the model with GridSearch\n",
        "grid.fit(X_train, y_train)\n"
      ]
    },
    {
      "cell_type": "code",
      "execution_count": null,
      "metadata": {
        "execution": {
          "iopub.execute_input": "2022-11-22T04:20:24.242059Z",
          "iopub.status.busy": "2022-11-22T04:20:24.242059Z",
          "iopub.status.idle": "2022-11-22T04:20:24.256459Z",
          "shell.execute_reply": "2022-11-22T04:20:24.255457Z",
          "shell.execute_reply.started": "2022-11-22T04:20:24.242059Z"
        },
        "colab": {
          "base_uri": "https://localhost:8080/"
        },
        "id": "Nraxpcd4lsfu",
        "outputId": "8392da43-cdd0-4a58-ac94-2e4092208b13"
      },
      "outputs": [
        {
          "output_type": "stream",
          "name": "stdout",
          "text": [
            "{'svc__C': 0.1, 'svc__gamma': 1, 'svc__kernel': 'linear'}\n"
          ]
        }
      ],
      "source": [
        "print(grid.best_params_)"
      ]
    },
    {
      "cell_type": "code",
      "execution_count": null,
      "metadata": {
        "execution": {
          "iopub.execute_input": "2022-11-22T04:20:24.258458Z",
          "iopub.status.busy": "2022-11-22T04:20:24.257459Z",
          "iopub.status.idle": "2022-11-22T04:20:24.272458Z",
          "shell.execute_reply": "2022-11-22T04:20:24.271496Z",
          "shell.execute_reply.started": "2022-11-22T04:20:24.258458Z"
        },
        "colab": {
          "base_uri": "https://localhost:8080/"
        },
        "id": "hssIVdwOlsfu",
        "outputId": "c2d6ce27-f51a-4f74-dd6f-570501f64940"
      },
      "outputs": [
        {
          "output_type": "stream",
          "name": "stdout",
          "text": [
            "0.8318996620353323\n"
          ]
        }
      ],
      "source": [
        " # List the best score\n",
        "print(grid.best_score_)"
      ]
    },
    {
      "cell_type": "code",
      "execution_count": null,
      "metadata": {
        "execution": {
          "iopub.execute_input": "2022-11-22T04:20:24.273500Z",
          "iopub.status.busy": "2022-11-22T04:20:24.272458Z",
          "iopub.status.idle": "2022-11-22T04:20:24.995329Z",
          "shell.execute_reply": "2022-11-22T04:20:24.994326Z",
          "shell.execute_reply.started": "2022-11-22T04:20:24.273500Z"
        },
        "colab": {
          "base_uri": "https://localhost:8080/"
        },
        "id": "KdDf7HxQlsfu",
        "outputId": "1a0b3e4f-7bca-4c9a-8971-2dcb19524f4d"
      },
      "outputs": [
        {
          "output_type": "stream",
          "name": "stdout",
          "text": [
            "Training Data Score: 0.8358642035013057\n",
            "Testing Data Score: 0.8264891696750902\n"
          ]
        }
      ],
      "source": [
        "print(f\"Training Data Score: {grid.score(X_train, y_train)}\")\n",
        "print(f\"Testing Data Score: {grid.score(X_test, y_test)}\")"
      ]
    },
    {
      "cell_type": "code",
      "execution_count": null,
      "metadata": {
        "execution": {
          "iopub.execute_input": "2022-11-22T04:20:24.996836Z",
          "iopub.status.busy": "2022-11-22T04:20:24.995329Z",
          "iopub.status.idle": "2022-11-22T04:20:25.232597Z",
          "shell.execute_reply": "2022-11-22T04:20:25.231913Z",
          "shell.execute_reply.started": "2022-11-22T04:20:24.996836Z"
        },
        "colab": {
          "base_uri": "https://localhost:8080/"
        },
        "id": "y_YhyJzglsfv",
        "outputId": "0a37ffbd-349a-428f-aeff-7179b626ac04"
      },
      "outputs": [
        {
          "output_type": "execute_result",
          "data": {
            "text/plain": [
              "array([2, 2, 3, ..., 2, 2, 3])"
            ]
          },
          "metadata": {},
          "execution_count": 24
        }
      ],
      "source": [
        "# Make predictions with the hypertuned model\n",
        "predictions = grid.predict(X_test)\n",
        "predictions"
      ]
    },
    {
      "cell_type": "code",
      "execution_count": null,
      "metadata": {
        "execution": {
          "iopub.execute_input": "2022-11-22T04:20:25.234593Z",
          "iopub.status.busy": "2022-11-22T04:20:25.233622Z",
          "iopub.status.idle": "2022-11-22T04:20:25.248818Z",
          "shell.execute_reply": "2022-11-22T04:20:25.247977Z",
          "shell.execute_reply.started": "2022-11-22T04:20:25.234593Z"
        },
        "colab": {
          "base_uri": "https://localhost:8080/",
          "height": 564
        },
        "id": "6qQ3kN97lsfv",
        "outputId": "0f63c34d-0fa6-41f9-c607-1a807e1913a2"
      },
      "outputs": [
        {
          "output_type": "display_data",
          "data": {
            "text/plain": [
              "<Figure size 800x600 with 2 Axes>"
            ],
            "image/png": "[encoded data removed]"
          },
          "metadata": {}
        }
      ],
      "source": [
        "# Classification metrics\n",
        "from sklearn.metrics import confusion_matrix, classification_report\n",
        "\n",
        "cm = confusion_matrix(y_test, predictions)\n",
        "import seaborn as sns\n",
        "import matplotlib.pyplot as plt\n",
        "# Plot the confusion matrix\n",
        "plt.figure(figsize=(8, 6))\n",
        "sns.heatmap(cm, annot=True, fmt='g', cmap='Set2')\n",
        "plt.xlabel('Predicted')\n",
        "plt.ylabel('Actual')\n",
        "plt.title('Confusion Matrix')\n",
        "plt.show()\n"
      ]
    },
    {
      "cell_type": "code",
      "execution_count": null,
      "metadata": {
        "execution": {
          "iopub.execute_input": "2022-11-22T04:20:25.250827Z",
          "iopub.status.busy": "2022-11-22T04:20:25.250827Z",
          "iopub.status.idle": "2022-11-22T04:20:25.264819Z",
          "shell.execute_reply": "2022-11-22T04:20:25.263817Z",
          "shell.execute_reply.started": "2022-11-22T04:20:25.250827Z"
        },
        "colab": {
          "base_uri": "https://localhost:8080/",
          "height": 564
        },
        "id": "bOJVhEeIlsfv",
        "outputId": "80beb608-09a7-43b3-d72b-b4c62e9971a2"
      },
      "outputs": [
        {
          "output_type": "display_data",
          "data": {
            "text/plain": [
              "<Figure size 800x600 with 2 Axes>"
            ],
            "image/png": "[encoded data removed]"
          },
          "metadata": {}
        }
      ],
      "source": [
        "cm = np.around(cm / cm.sum(axis=1)[:, np.newaxis], 2)\n",
        "import seaborn as sns\n",
        "import matplotlib.pyplot as plt\n",
        "# Plot the confusion matrix\n",
        "plt.figure(figsize=(8, 6))\n",
        "sns.heatmap(cm, annot=True, fmt='g', cmap='Set2')\n",
        "plt.xlabel('Predicted')\n",
        "plt.ylabel('Actual')\n",
        "plt.title('Confusion Matrix')\n",
        "plt.show()\n"
      ]
    },
    {
      "cell_type": "code",
      "execution_count": null,
      "metadata": {
        "execution": {
          "iopub.execute_input": "2022-11-22T04:20:25.265821Z",
          "iopub.status.busy": "2022-11-22T04:20:25.264819Z",
          "iopub.status.idle": "2022-11-22T04:20:25.279818Z",
          "shell.execute_reply": "2022-11-22T04:20:25.279818Z",
          "shell.execute_reply.started": "2022-11-22T04:20:25.265821Z"
        },
        "colab": {
          "base_uri": "https://localhost:8080/"
        },
        "id": "ncgxk-XJlsfv",
        "outputId": "7d37fb5a-8513-4037-b968-bfd3d082b24f"
      },
      "outputs": [
        {
          "output_type": "stream",
          "name": "stdout",
          "text": [
            "              precision    recall  f1-score   support\n",
            "\n",
            "           0       0.48      0.21      0.29       687\n",
            "           1       0.93      1.00      0.96      1582\n",
            "           2       0.69      0.78      0.73       958\n",
            "           3       0.89      0.99      0.94      1205\n",
            "\n",
            "    accuracy                           0.83      4432\n",
            "   macro avg       0.75      0.74      0.73      4432\n",
            "weighted avg       0.80      0.83      0.80      4432\n",
            "\n"
          ]
        }
      ],
      "source": [
        "print(classification_report(y_test, predictions))"
      ]
    },
    {
      "cell_type": "code",
      "execution_count": null,
      "metadata": {
        "execution": {
          "iopub.execute_input": "2022-11-22T04:20:25.281821Z",
          "iopub.status.busy": "2022-11-22T04:20:25.281821Z",
          "iopub.status.idle": "2022-11-22T04:20:25.295866Z",
          "shell.execute_reply": "2022-11-22T04:20:25.295866Z",
          "shell.execute_reply.started": "2022-11-22T04:20:25.281821Z"
        },
        "colab": {
          "base_uri": "https://localhost:8080/"
        },
        "id": "Xih9Xaidlsfv",
        "outputId": "e05cb2ac-d325-4820-97fa-1a7feb59ed75"
      },
      "outputs": [
        {
          "output_type": "execute_result",
          "data": {
            "text/plain": [
              "array([2, 2, 3, ..., 2, 2, 3])"
            ]
          },
          "metadata": {},
          "execution_count": 28
        }
      ],
      "source": [
        "predictions"
      ]
    },
    {
      "cell_type": "code",
      "execution_count": null,
      "metadata": {
        "execution": {
          "iopub.execute_input": "2022-11-22T04:20:25.297376Z",
          "iopub.status.busy": "2022-11-22T04:20:25.297376Z",
          "iopub.status.idle": "2022-11-22T04:20:25.312386Z",
          "shell.execute_reply": "2022-11-22T04:20:25.311381Z",
          "shell.execute_reply.started": "2022-11-22T04:20:25.297376Z"
        },
        "id": "oV6H9jNulsfw"
      },
      "outputs": [],
      "source": [
        "pred = grid.predict(X_test[:1])"
      ]
    },
    {
      "cell_type": "code",
      "execution_count": null,
      "metadata": {
        "execution": {
          "iopub.execute_input": "2022-11-22T04:20:25.313386Z",
          "iopub.status.busy": "2022-11-22T04:20:25.312386Z",
          "iopub.status.idle": "2022-11-22T04:20:25.328387Z",
          "shell.execute_reply": "2022-11-22T04:20:25.327387Z",
          "shell.execute_reply.started": "2022-11-22T04:20:25.313386Z"
        },
        "scrolled": true,
        "colab": {
          "base_uri": "https://localhost:8080/"
        },
        "id": "VqEmSCf_lsfw",
        "outputId": "3e07b574-fe50-4f57-8941-0de66d35a465"
      },
      "outputs": [
        {
          "output_type": "stream",
          "name": "stdout",
          "text": [
            "Predicted classes: [2]\n",
            "Actual Labels: [2]\n"
          ]
        }
      ],
      "source": [
        "print(f\"Predicted classes: {pred}\")\n",
        "print(f\"Actual Labels: {list(y_test[:1])}\")"
      ]
    },
    {
      "cell_type": "markdown",
      "metadata": {
        "id": "eVSW5lKtlsfw"
      },
      "source": [
        "## Build Model Pipeline with SMOTE\n",
        "\n",
        "* Let's check now the impact of SMOTE to our results\n",
        "\n",
        "* We are going to use the Pipeline from the imblearn package in place of scikit-learn Pipeline.\n",
        "\n",
        "* It takes care automatically to re-sample when called fit() on the pipeline, and does not re-sample test data (when called transform() or predict())."
      ]
    },
    {
      "cell_type": "code",
      "execution_count": null,
      "metadata": {
        "execution": {
          "iopub.execute_input": "2022-11-22T04:20:25.329424Z",
          "iopub.status.busy": "2022-11-22T04:20:25.328387Z",
          "iopub.status.idle": "2022-11-22T04:20:25.344383Z",
          "shell.execute_reply": "2022-11-22T04:20:25.343382Z",
          "shell.execute_reply.started": "2022-11-22T04:20:25.329424Z"
        },
        "colab": {
          "base_uri": "https://localhost:8080/",
          "height": 227
        },
        "id": "Gg5d4wFPlsfw",
        "outputId": "3686a780-f793-412f-bff6-e29e8aae525a"
      },
      "outputs": [
        {
          "output_type": "execute_result",
          "data": {
            "text/plain": [
              "Pipeline(steps=[('columntransformer',\n",
              "                 ColumnTransformer(transformers=[('minmaxscaler',\n",
              "                                                  MinMaxScaler(),\n",
              "                                                  [29, 30, 31, 32, 33, 34, 35,\n",
              "                                                   37]),\n",
              "                                                 ('onehotencoder',\n",
              "                                                  OneHotEncoder(handle_unknown='ignore'),\n",
              "                                                  [1, 3, 4, 5, 8, 9, 10, 11, 12,\n",
              "                                                   14, 15, 16, 17, 18, 19, 20,\n",
              "                                                   21, 22, 23, 24, 25, 26, 28,\n",
              "                                                   36, 38])])),\n",
              "                ('smote', SMOTE(random_state=10)),\n",
              "                ('svc', SVC(random_state=10))])"
            ],
            "text/html": [
              "<style>#sk-container-id-5 {color: black;background-color: white;}#sk-container-id-5 pre{padding: 0;}#sk-container-id-5 div.sk-toggleable {background-color: white;}#sk-container-id-5 label.sk-toggleable__label {cursor: pointer;display: block;width: 100%;margin-bottom: 0;padding: 0.3em;box-sizing: border-box;text-align: center;}#sk-container-id-5 label.sk-toggleable__label-arrow:before {content: \"▸\";float: left;margin-right: 0.25em;color: #696969;}#sk-container-id-5 label.sk-toggleable__label-arrow:hover:before {color: black;}#sk-container-id-5 div.sk-estimator:hover label.sk-toggleable__label-arrow:before {color: black;}#sk-container-id-5 div.sk-toggleable__content {max-height: 0;max-width: 0;overflow: hidden;text-align: left;background-color: #f0f8ff;}#sk-container-id-5 div.sk-toggleable__content pre {margin: 0.2em;color: black;border-radius: 0.25em;background-color: #f0f8ff;}#sk-container-id-5 input.sk-toggleable__control:checked~div.sk-toggleable__content {max-height: 200px;max-width: 100%;overflow: auto;}#sk-container-id-5 input.sk-toggleable__control:checked~label.sk-toggleable__label-arrow:before {content: \"▾\";}#sk-container-id-5 div.sk-estimator input.sk-toggleable__control:checked~label.sk-toggleable__label {background-color: #d4ebff;}#sk-container-id-5 div.sk-label input.sk-toggleable__control:checked~label.sk-toggleable__label {background-color: #d4ebff;}#sk-container-id-5 input.sk-hidden--visually {border: 0;clip: rect(1px 1px 1px 1px);clip: rect(1px, 1px, 1px, 1px);height: 1px;margin: -1px;overflow: hidden;padding: 0;position: absolute;width: 1px;}#sk-container-id-5 div.sk-estimator {font-family: monospace;background-color: #f0f8ff;border: 1px dotted black;border-radius: 0.25em;box-sizing: border-box;margin-bottom: 0.5em;}#sk-container-id-5 div.sk-estimator:hover {background-color: #d4ebff;}#sk-container-id-5 div.sk-parallel-item::after {content: \"\";width: 100%;border-bottom: 1px solid gray;flex-grow: 1;}#sk-container-id-5 div.sk-label:hover label.sk-toggleable__label {background-color: #d4ebff;}#sk-container-id-5 div.sk-serial::before {content: \"\";position: absolute;border-left: 1px solid gray;box-sizing: border-box;top: 0;bottom: 0;left: 50%;z-index: 0;}#sk-container-id-5 div.sk-serial {display: flex;flex-direction: column;align-items: center;background-color: white;padding-right: 0.2em;padding-left: 0.2em;position: relative;}#sk-container-id-5 div.sk-item {position: relative;z-index: 1;}#sk-container-id-5 div.sk-parallel {display: flex;align-items: stretch;justify-content: center;background-color: white;position: relative;}#sk-container-id-5 div.sk-item::before, #sk-container-id-5 div.sk-parallel-item::before {content: \"\";position: absolute;border-left: 1px solid gray;box-sizing: border-box;top: 0;bottom: 0;left: 50%;z-index: -1;}#sk-container-id-5 div.sk-parallel-item {display: flex;flex-direction: column;z-index: 1;position: relative;background-color: white;}#sk-container-id-5 div.sk-parallel-item:first-child::after {align-self: flex-end;width: 50%;}#sk-container-id-5 div.sk-parallel-item:last-child::after {align-self: flex-start;width: 50%;}#sk-container-id-5 div.sk-parallel-item:only-child::after {width: 0;}#sk-container-id-5 div.sk-dashed-wrapped {border: 1px dashed gray;margin: 0 0.4em 0.5em 0.4em;box-sizing: border-box;padding-bottom: 0.4em;background-color: white;}#sk-container-id-5 div.sk-label label {font-family: monospace;font-weight: bold;display: inline-block;line-height: 1.2em;}#sk-container-id-5 div.sk-label-container {text-align: center;}#sk-container-id-5 div.sk-container {/* jupyter's `normalize.less` sets `[hidden] { display: none; }` but bootstrap.min.css set `[hidden] { display: none !important; }` so we also need the `!important` here to be able to override the default hidden behavior on the sphinx rendered scikit-learn.org. See: https://github.com/scikit-learn/scikit-learn/issues/21755 */display: inline-block !important;position: relative;}#sk-container-id-5 div.sk-text-repr-fallback {display: none;}</style><div id=\"sk-container-id-5\" class=\"sk-top-container\"><div class=\"sk-text-repr-fallback\"><pre>Pipeline(steps=[(&#x27;columntransformer&#x27;,\n",
              "                 ColumnTransformer(transformers=[(&#x27;minmaxscaler&#x27;,\n",
              "                                                  MinMaxScaler(),\n",
              "                                                  [29, 30, 31, 32, 33, 34, 35,\n",
              "                                                   37]),\n",
              "                                                 (&#x27;onehotencoder&#x27;,\n",
              "                                                  OneHotEncoder(handle_unknown=&#x27;ignore&#x27;),\n",
              "                                                  [1, 3, 4, 5, 8, 9, 10, 11, 12,\n",
              "                                                   14, 15, 16, 17, 18, 19, 20,\n",
              "                                                   21, 22, 23, 24, 25, 26, 28,\n",
              "                                                   36, 38])])),\n",
              "                (&#x27;smote&#x27;, SMOTE(random_state=10)),\n",
              "                (&#x27;svc&#x27;, SVC(random_state=10))])</pre><b>In a Jupyter environment, please rerun this cell to show the HTML representation or trust the notebook. <br />On GitHub, the HTML representation is unable to render, please try loading this page with nbviewer.org.</b></div><div class=\"sk-container\" hidden><div class=\"sk-item sk-dashed-wrapped\"><div class=\"sk-label-container\"><div class=\"sk-label sk-toggleable\"><input class=\"sk-toggleable__control sk-hidden--visually\" id=\"sk-estimator-id-29\" type=\"checkbox\" ><label for=\"sk-estimator-id-29\" class=\"sk-toggleable__label sk-toggleable__label-arrow\">Pipeline</label><div class=\"sk-toggleable__content\"><pre>Pipeline(steps=[(&#x27;columntransformer&#x27;,\n",
              "                 ColumnTransformer(transformers=[(&#x27;minmaxscaler&#x27;,\n",
              "                                                  MinMaxScaler(),\n",
              "                                                  [29, 30, 31, 32, 33, 34, 35,\n",
              "                                                   37]),\n",
              "                                                 (&#x27;onehotencoder&#x27;,\n",
              "                                                  OneHotEncoder(handle_unknown=&#x27;ignore&#x27;),\n",
              "                                                  [1, 3, 4, 5, 8, 9, 10, 11, 12,\n",
              "                                                   14, 15, 16, 17, 18, 19, 20,\n",
              "                                                   21, 22, 23, 24, 25, 26, 28,\n",
              "                                                   36, 38])])),\n",
              "                (&#x27;smote&#x27;, SMOTE(random_state=10)),\n",
              "                (&#x27;svc&#x27;, SVC(random_state=10))])</pre></div></div></div><div class=\"sk-serial\"><div class=\"sk-item sk-dashed-wrapped\"><div class=\"sk-label-container\"><div class=\"sk-label sk-toggleable\"><input class=\"sk-toggleable__control sk-hidden--visually\" id=\"sk-estimator-id-30\" type=\"checkbox\" ><label for=\"sk-estimator-id-30\" class=\"sk-toggleable__label sk-toggleable__label-arrow\">columntransformer: ColumnTransformer</label><div class=\"sk-toggleable__content\"><pre>ColumnTransformer(transformers=[(&#x27;minmaxscaler&#x27;, MinMaxScaler(),\n",
              "                                 [29, 30, 31, 32, 33, 34, 35, 37]),\n",
              "                                (&#x27;onehotencoder&#x27;,\n",
              "                                 OneHotEncoder(handle_unknown=&#x27;ignore&#x27;),\n",
              "                                 [1, 3, 4, 5, 8, 9, 10, 11, 12, 14, 15, 16, 17,\n",
              "                                  18, 19, 20, 21, 22, 23, 24, 25, 26, 28, 36,\n",
              "                                  38])])</pre></div></div></div><div class=\"sk-parallel\"><div class=\"sk-parallel-item\"><div class=\"sk-item\"><div class=\"sk-label-container\"><div class=\"sk-label sk-toggleable\"><input class=\"sk-toggleable__control sk-hidden--visually\" id=\"sk-estimator-id-31\" type=\"checkbox\" ><label for=\"sk-estimator-id-31\" class=\"sk-toggleable__label sk-toggleable__label-arrow\">minmaxscaler</label><div class=\"sk-toggleable__content\"><pre>[29, 30, 31, 32, 33, 34, 35, 37]</pre></div></div></div><div class=\"sk-serial\"><div class=\"sk-item\"><div class=\"sk-estimator sk-toggleable\"><input class=\"sk-toggleable__control sk-hidden--visually\" id=\"sk-estimator-id-32\" type=\"checkbox\" ><label for=\"sk-estimator-id-32\" class=\"sk-toggleable__label sk-toggleable__label-arrow\">MinMaxScaler</label><div class=\"sk-toggleable__content\"><pre>MinMaxScaler()</pre></div></div></div></div></div></div><div class=\"sk-parallel-item\"><div class=\"sk-item\"><div class=\"sk-label-container\"><div class=\"sk-label sk-toggleable\"><input class=\"sk-toggleable__control sk-hidden--visually\" id=\"sk-estimator-id-33\" type=\"checkbox\" ><label for=\"sk-estimator-id-33\" class=\"sk-toggleable__label sk-toggleable__label-arrow\">onehotencoder</label><div class=\"sk-toggleable__content\"><pre>[1, 3, 4, 5, 8, 9, 10, 11, 12, 14, 15, 16, 17, 18, 19, 20, 21, 22, 23, 24, 25, 26, 28, 36, 38]</pre></div></div></div><div class=\"sk-serial\"><div class=\"sk-item\"><div class=\"sk-estimator sk-toggleable\"><input class=\"sk-toggleable__control sk-hidden--visually\" id=\"sk-estimator-id-34\" type=\"checkbox\" ><label for=\"sk-estimator-id-34\" class=\"sk-toggleable__label sk-toggleable__label-arrow\">OneHotEncoder</label><div class=\"sk-toggleable__content\"><pre>OneHotEncoder(handle_unknown=&#x27;ignore&#x27;)</pre></div></div></div></div></div></div></div></div><div class=\"sk-item\"><div class=\"sk-estimator sk-toggleable\"><input class=\"sk-toggleable__control sk-hidden--visually\" id=\"sk-estimator-id-35\" type=\"checkbox\" ><label for=\"sk-estimator-id-35\" class=\"sk-toggleable__label sk-toggleable__label-arrow\">SMOTE</label><div class=\"sk-toggleable__content\"><pre>SMOTE(random_state=10)</pre></div></div></div><div class=\"sk-item\"><div class=\"sk-estimator sk-toggleable\"><input class=\"sk-toggleable__control sk-hidden--visually\" id=\"sk-estimator-id-36\" type=\"checkbox\" ><label for=\"sk-estimator-id-36\" class=\"sk-toggleable__label sk-toggleable__label-arrow\">SVC</label><div class=\"sk-toggleable__content\"><pre>SVC(random_state=10)</pre></div></div></div></div></div></div></div>"
            ]
          },
          "metadata": {},
          "execution_count": 34
        }
      ],
      "source": [
        "# Import classifier\n",
        "from sklearn.svm import SVC\n",
        "\n",
        "# Define model with pipeline\n",
        "model_s = imbl_pipe(preprocess,\n",
        "                  SMOTE(sampling_strategy='auto', random_state=random_state),\n",
        "                  SVC(random_state=random_state))\n",
        "\n",
        "model_s"
      ]
    },
    {
      "cell_type": "code",
      "execution_count": null,
      "metadata": {
        "execution": {
          "iopub.execute_input": "2022-11-22T04:20:25.348383Z",
          "iopub.status.busy": "2022-11-22T04:20:25.348383Z",
          "iopub.status.idle": "2022-11-22T04:20:25.360383Z",
          "shell.execute_reply": "2022-11-22T04:20:25.359416Z",
          "shell.execute_reply.started": "2022-11-22T04:20:25.348383Z"
        },
        "id": "aXVicJkflsfw"
      },
      "outputs": [],
      "source": [
        "# Create the GridSearchCV model\n",
        "# Create the GridSearch estimator along with a parameter object containing the values to adjust\n",
        "from sklearn.model_selection import GridSearchCV\n",
        "\n",
        "param_grid = {'svc__kernel' : ['linear', 'rbf'],\n",
        "              'svc__C': [0.001, 0.1, 0.5],\n",
        "              'svc__gamma': [1, 0.1, 0.01]}\n",
        "grid = GridSearchCV(model, param_grid, verbose=3, cv= 3, n_jobs=2)"
      ]
    },
    {
      "cell_type": "code",
      "execution_count": null,
      "metadata": {
        "execution": {
          "iopub.execute_input": "2022-11-22T04:20:25.361420Z",
          "iopub.status.busy": "2022-11-22T04:20:25.360383Z",
          "iopub.status.idle": "2022-11-22T04:36:27.399482Z",
          "shell.execute_reply": "2022-11-22T04:36:27.398485Z",
          "shell.execute_reply.started": "2022-11-22T04:20:25.361420Z"
        },
        "scrolled": true,
        "tags": [],
        "colab": {
          "base_uri": "https://localhost:8080/",
          "height": 236
        },
        "id": "Cc5S_1Lolsfx",
        "outputId": "aedf6d41-7f8c-4a95-d1c4-73f1b22675d9"
      },
      "outputs": [
        {
          "output_type": "stream",
          "name": "stdout",
          "text": [
            "Fitting 3 folds for each of 18 candidates, totalling 54 fits\n"
          ]
        },
        {
          "output_type": "execute_result",
          "data": {
            "text/plain": [
              "GridSearchCV(cv=3,\n",
              "             estimator=Pipeline(steps=[('columntransformer',\n",
              "                                        ColumnTransformer(transformers=[('minmaxscaler',\n",
              "                                                                         MinMaxScaler(),\n",
              "                                                                         [29,\n",
              "                                                                          30,\n",
              "                                                                          31,\n",
              "                                                                          32,\n",
              "                                                                          33,\n",
              "                                                                          34,\n",
              "                                                                          35,\n",
              "                                                                          37]),\n",
              "                                                                        ('onehotencoder',\n",
              "                                                                         OneHotEncoder(handle_unknown='ignore'),\n",
              "                                                                         [1, 3,\n",
              "                                                                          4, 5,\n",
              "                                                                          8, 9,\n",
              "                                                                          10,\n",
              "                                                                          11,\n",
              "                                                                          12,\n",
              "                                                                          14,\n",
              "                                                                          15,\n",
              "                                                                          16,\n",
              "                                                                          17,\n",
              "                                                                          18,\n",
              "                                                                          19,\n",
              "                                                                          20,\n",
              "                                                                          21,\n",
              "                                                                          22,\n",
              "                                                                          23,\n",
              "                                                                          24,\n",
              "                                                                          25,\n",
              "                                                                          26,\n",
              "                                                                          28,\n",
              "                                                                          36,\n",
              "                                                                          38])])),\n",
              "                                       ('svc', SVC(random_state=10))]),\n",
              "             n_jobs=2,\n",
              "             param_grid={'svc__C': [0.001, 0.1, 0.5],\n",
              "                         'svc__gamma': [1, 0.1, 0.01],\n",
              "                         'svc__kernel': ['linear', 'rbf']},\n",
              "             verbose=3)"
            ],
            "text/html": [
              "<style>#sk-container-id-6 {color: black;background-color: white;}#sk-container-id-6 pre{padding: 0;}#sk-container-id-6 div.sk-toggleable {background-color: white;}#sk-container-id-6 label.sk-toggleable__label {cursor: pointer;display: block;width: 100%;margin-bottom: 0;padding: 0.3em;box-sizing: border-box;text-align: center;}#sk-container-id-6 label.sk-toggleable__label-arrow:before {content: \"▸\";float: left;margin-right: 0.25em;color: #696969;}#sk-container-id-6 label.sk-toggleable__label-arrow:hover:before {color: black;}#sk-container-id-6 div.sk-estimator:hover label.sk-toggleable__label-arrow:before {color: black;}#sk-container-id-6 div.sk-toggleable__content {max-height: 0;max-width: 0;overflow: hidden;text-align: left;background-color: #f0f8ff;}#sk-container-id-6 div.sk-toggleable__content pre {margin: 0.2em;color: black;border-radius: 0.25em;background-color: #f0f8ff;}#sk-container-id-6 input.sk-toggleable__control:checked~div.sk-toggleable__content {max-height: 200px;max-width: 100%;overflow: auto;}#sk-container-id-6 input.sk-toggleable__control:checked~label.sk-toggleable__label-arrow:before {content: \"▾\";}#sk-container-id-6 div.sk-estimator input.sk-toggleable__control:checked~label.sk-toggleable__label {background-color: #d4ebff;}#sk-container-id-6 div.sk-label input.sk-toggleable__control:checked~label.sk-toggleable__label {background-color: #d4ebff;}#sk-container-id-6 input.sk-hidden--visually {border: 0;clip: rect(1px 1px 1px 1px);clip: rect(1px, 1px, 1px, 1px);height: 1px;margin: -1px;overflow: hidden;padding: 0;position: absolute;width: 1px;}#sk-container-id-6 div.sk-estimator {font-family: monospace;background-color: #f0f8ff;border: 1px dotted black;border-radius: 0.25em;box-sizing: border-box;margin-bottom: 0.5em;}#sk-container-id-6 div.sk-estimator:hover {background-color: #d4ebff;}#sk-container-id-6 div.sk-parallel-item::after {content: \"\";width: 100%;border-bottom: 1px solid gray;flex-grow: 1;}#sk-container-id-6 div.sk-label:hover label.sk-toggleable__label {background-color: #d4ebff;}#sk-container-id-6 div.sk-serial::before {content: \"\";position: absolute;border-left: 1px solid gray;box-sizing: border-box;top: 0;bottom: 0;left: 50%;z-index: 0;}#sk-container-id-6 div.sk-serial {display: flex;flex-direction: column;align-items: center;background-color: white;padding-right: 0.2em;padding-left: 0.2em;position: relative;}#sk-container-id-6 div.sk-item {position: relative;z-index: 1;}#sk-container-id-6 div.sk-parallel {display: flex;align-items: stretch;justify-content: center;background-color: white;position: relative;}#sk-container-id-6 div.sk-item::before, #sk-container-id-6 div.sk-parallel-item::before {content: \"\";position: absolute;border-left: 1px solid gray;box-sizing: border-box;top: 0;bottom: 0;left: 50%;z-index: -1;}#sk-container-id-6 div.sk-parallel-item {display: flex;flex-direction: column;z-index: 1;position: relative;background-color: white;}#sk-container-id-6 div.sk-parallel-item:first-child::after {align-self: flex-end;width: 50%;}#sk-container-id-6 div.sk-parallel-item:last-child::after {align-self: flex-start;width: 50%;}#sk-container-id-6 div.sk-parallel-item:only-child::after {width: 0;}#sk-container-id-6 div.sk-dashed-wrapped {border: 1px dashed gray;margin: 0 0.4em 0.5em 0.4em;box-sizing: border-box;padding-bottom: 0.4em;background-color: white;}#sk-container-id-6 div.sk-label label {font-family: monospace;font-weight: bold;display: inline-block;line-height: 1.2em;}#sk-container-id-6 div.sk-label-container {text-align: center;}#sk-container-id-6 div.sk-container {/* jupyter's `normalize.less` sets `[hidden] { display: none; }` but bootstrap.min.css set `[hidden] { display: none !important; }` so we also need the `!important` here to be able to override the default hidden behavior on the sphinx rendered scikit-learn.org. See: https://github.com/scikit-learn/scikit-learn/issues/21755 */display: inline-block !important;position: relative;}#sk-container-id-6 div.sk-text-repr-fallback {display: none;}</style><div id=\"sk-container-id-6\" class=\"sk-top-container\"><div class=\"sk-text-repr-fallback\"><pre>GridSearchCV(cv=3,\n",
              "             estimator=Pipeline(steps=[(&#x27;columntransformer&#x27;,\n",
              "                                        ColumnTransformer(transformers=[(&#x27;minmaxscaler&#x27;,\n",
              "                                                                         MinMaxScaler(),\n",
              "                                                                         [29,\n",
              "                                                                          30,\n",
              "                                                                          31,\n",
              "                                                                          32,\n",
              "                                                                          33,\n",
              "                                                                          34,\n",
              "                                                                          35,\n",
              "                                                                          37]),\n",
              "                                                                        (&#x27;onehotencoder&#x27;,\n",
              "                                                                         OneHotEncoder(handle_unknown=&#x27;ignore&#x27;),\n",
              "                                                                         [1, 3,\n",
              "                                                                          4, 5,\n",
              "                                                                          8, 9,\n",
              "                                                                          10,\n",
              "                                                                          11,\n",
              "                                                                          12,\n",
              "                                                                          14,\n",
              "                                                                          15,\n",
              "                                                                          16,\n",
              "                                                                          17,\n",
              "                                                                          18,\n",
              "                                                                          19,\n",
              "                                                                          20,\n",
              "                                                                          21,\n",
              "                                                                          22,\n",
              "                                                                          23,\n",
              "                                                                          24,\n",
              "                                                                          25,\n",
              "                                                                          26,\n",
              "                                                                          28,\n",
              "                                                                          36,\n",
              "                                                                          38])])),\n",
              "                                       (&#x27;svc&#x27;, SVC(random_state=10))]),\n",
              "             n_jobs=2,\n",
              "             param_grid={&#x27;svc__C&#x27;: [0.001, 0.1, 0.5],\n",
              "                         &#x27;svc__gamma&#x27;: [1, 0.1, 0.01],\n",
              "                         &#x27;svc__kernel&#x27;: [&#x27;linear&#x27;, &#x27;rbf&#x27;]},\n",
              "             verbose=3)</pre><b>In a Jupyter environment, please rerun this cell to show the HTML representation or trust the notebook. <br />On GitHub, the HTML representation is unable to render, please try loading this page with nbviewer.org.</b></div><div class=\"sk-container\" hidden><div class=\"sk-item sk-dashed-wrapped\"><div class=\"sk-label-container\"><div class=\"sk-label sk-toggleable\"><input class=\"sk-toggleable__control sk-hidden--visually\" id=\"sk-estimator-id-37\" type=\"checkbox\" ><label for=\"sk-estimator-id-37\" class=\"sk-toggleable__label sk-toggleable__label-arrow\">GridSearchCV</label><div class=\"sk-toggleable__content\"><pre>GridSearchCV(cv=3,\n",
              "             estimator=Pipeline(steps=[(&#x27;columntransformer&#x27;,\n",
              "                                        ColumnTransformer(transformers=[(&#x27;minmaxscaler&#x27;,\n",
              "                                                                         MinMaxScaler(),\n",
              "                                                                         [29,\n",
              "                                                                          30,\n",
              "                                                                          31,\n",
              "                                                                          32,\n",
              "                                                                          33,\n",
              "                                                                          34,\n",
              "                                                                          35,\n",
              "                                                                          37]),\n",
              "                                                                        (&#x27;onehotencoder&#x27;,\n",
              "                                                                         OneHotEncoder(handle_unknown=&#x27;ignore&#x27;),\n",
              "                                                                         [1, 3,\n",
              "                                                                          4, 5,\n",
              "                                                                          8, 9,\n",
              "                                                                          10,\n",
              "                                                                          11,\n",
              "                                                                          12,\n",
              "                                                                          14,\n",
              "                                                                          15,\n",
              "                                                                          16,\n",
              "                                                                          17,\n",
              "                                                                          18,\n",
              "                                                                          19,\n",
              "                                                                          20,\n",
              "                                                                          21,\n",
              "                                                                          22,\n",
              "                                                                          23,\n",
              "                                                                          24,\n",
              "                                                                          25,\n",
              "                                                                          26,\n",
              "                                                                          28,\n",
              "                                                                          36,\n",
              "                                                                          38])])),\n",
              "                                       (&#x27;svc&#x27;, SVC(random_state=10))]),\n",
              "             n_jobs=2,\n",
              "             param_grid={&#x27;svc__C&#x27;: [0.001, 0.1, 0.5],\n",
              "                         &#x27;svc__gamma&#x27;: [1, 0.1, 0.01],\n",
              "                         &#x27;svc__kernel&#x27;: [&#x27;linear&#x27;, &#x27;rbf&#x27;]},\n",
              "             verbose=3)</pre></div></div></div><div class=\"sk-parallel\"><div class=\"sk-parallel-item\"><div class=\"sk-item\"><div class=\"sk-label-container\"><div class=\"sk-label sk-toggleable\"><input class=\"sk-toggleable__control sk-hidden--visually\" id=\"sk-estimator-id-38\" type=\"checkbox\" ><label for=\"sk-estimator-id-38\" class=\"sk-toggleable__label sk-toggleable__label-arrow\">estimator: Pipeline</label><div class=\"sk-toggleable__content\"><pre>Pipeline(steps=[(&#x27;columntransformer&#x27;,\n",
              "                 ColumnTransformer(transformers=[(&#x27;minmaxscaler&#x27;,\n",
              "                                                  MinMaxScaler(),\n",
              "                                                  [29, 30, 31, 32, 33, 34, 35,\n",
              "                                                   37]),\n",
              "                                                 (&#x27;onehotencoder&#x27;,\n",
              "                                                  OneHotEncoder(handle_unknown=&#x27;ignore&#x27;),\n",
              "                                                  [1, 3, 4, 5, 8, 9, 10, 11, 12,\n",
              "                                                   14, 15, 16, 17, 18, 19, 20,\n",
              "                                                   21, 22, 23, 24, 25, 26, 28,\n",
              "                                                   36, 38])])),\n",
              "                (&#x27;svc&#x27;, SVC(random_state=10))])</pre></div></div></div><div class=\"sk-serial\"><div class=\"sk-item\"><div class=\"sk-serial\"><div class=\"sk-item sk-dashed-wrapped\"><div class=\"sk-label-container\"><div class=\"sk-label sk-toggleable\"><input class=\"sk-toggleable__control sk-hidden--visually\" id=\"sk-estimator-id-39\" type=\"checkbox\" ><label for=\"sk-estimator-id-39\" class=\"sk-toggleable__label sk-toggleable__label-arrow\">columntransformer: ColumnTransformer</label><div class=\"sk-toggleable__content\"><pre>ColumnTransformer(transformers=[(&#x27;minmaxscaler&#x27;, MinMaxScaler(),\n",
              "                                 [29, 30, 31, 32, 33, 34, 35, 37]),\n",
              "                                (&#x27;onehotencoder&#x27;,\n",
              "                                 OneHotEncoder(handle_unknown=&#x27;ignore&#x27;),\n",
              "                                 [1, 3, 4, 5, 8, 9, 10, 11, 12, 14, 15, 16, 17,\n",
              "                                  18, 19, 20, 21, 22, 23, 24, 25, 26, 28, 36,\n",
              "                                  38])])</pre></div></div></div><div class=\"sk-parallel\"><div class=\"sk-parallel-item\"><div class=\"sk-item\"><div class=\"sk-label-container\"><div class=\"sk-label sk-toggleable\"><input class=\"sk-toggleable__control sk-hidden--visually\" id=\"sk-estimator-id-40\" type=\"checkbox\" ><label for=\"sk-estimator-id-40\" class=\"sk-toggleable__label sk-toggleable__label-arrow\">minmaxscaler</label><div class=\"sk-toggleable__content\"><pre>[29, 30, 31, 32, 33, 34, 35, 37]</pre></div></div></div><div class=\"sk-serial\"><div class=\"sk-item\"><div class=\"sk-estimator sk-toggleable\"><input class=\"sk-toggleable__control sk-hidden--visually\" id=\"sk-estimator-id-41\" type=\"checkbox\" ><label for=\"sk-estimator-id-41\" class=\"sk-toggleable__label sk-toggleable__label-arrow\">MinMaxScaler</label><div class=\"sk-toggleable__content\"><pre>MinMaxScaler()</pre></div></div></div></div></div></div><div class=\"sk-parallel-item\"><div class=\"sk-item\"><div class=\"sk-label-container\"><div class=\"sk-label sk-toggleable\"><input class=\"sk-toggleable__control sk-hidden--visually\" id=\"sk-estimator-id-42\" type=\"checkbox\" ><label for=\"sk-estimator-id-42\" class=\"sk-toggleable__label sk-toggleable__label-arrow\">onehotencoder</label><div class=\"sk-toggleable__content\"><pre>[1, 3, 4, 5, 8, 9, 10, 11, 12, 14, 15, 16, 17, 18, 19, 20, 21, 22, 23, 24, 25, 26, 28, 36, 38]</pre></div></div></div><div class=\"sk-serial\"><div class=\"sk-item\"><div class=\"sk-estimator sk-toggleable\"><input class=\"sk-toggleable__control sk-hidden--visually\" id=\"sk-estimator-id-43\" type=\"checkbox\" ><label for=\"sk-estimator-id-43\" class=\"sk-toggleable__label sk-toggleable__label-arrow\">OneHotEncoder</label><div class=\"sk-toggleable__content\"><pre>OneHotEncoder(handle_unknown=&#x27;ignore&#x27;)</pre></div></div></div></div></div></div></div></div><div class=\"sk-item\"><div class=\"sk-estimator sk-toggleable\"><input class=\"sk-toggleable__control sk-hidden--visually\" id=\"sk-estimator-id-44\" type=\"checkbox\" ><label for=\"sk-estimator-id-44\" class=\"sk-toggleable__label sk-toggleable__label-arrow\">SVC</label><div class=\"sk-toggleable__content\"><pre>SVC(random_state=10)</pre></div></div></div></div></div></div></div></div></div></div></div></div>"
            ]
          },
          "metadata": {},
          "execution_count": 37
        }
      ],
      "source": [
        "# Train the model with GridSearch\n",
        "grid.fit(X_train, y_train)\n"
      ]
    },
    {
      "cell_type": "code",
      "execution_count": null,
      "metadata": {
        "execution": {
          "iopub.execute_input": "2022-11-22T04:36:27.400483Z",
          "iopub.status.busy": "2022-11-22T04:36:27.400483Z",
          "iopub.status.idle": "2022-11-22T04:36:27.414515Z",
          "shell.execute_reply": "2022-11-22T04:36:27.413518Z",
          "shell.execute_reply.started": "2022-11-22T04:36:27.400483Z"
        },
        "colab": {
          "base_uri": "https://localhost:8080/"
        },
        "id": "xbNwRzkYlsf2",
        "outputId": "2df9146c-5f49-4517-8e1f-d5a838922d50"
      },
      "outputs": [
        {
          "output_type": "stream",
          "name": "stdout",
          "text": [
            "{'svc__C': 0.5, 'svc__gamma': 1, 'svc__kernel': 'linear'}\n"
          ]
        }
      ],
      "source": [
        " print(grid.best_params_)"
      ]
    },
    {
      "cell_type": "code",
      "execution_count": null,
      "metadata": {
        "execution": {
          "iopub.execute_input": "2022-11-22T04:36:27.417521Z",
          "iopub.status.busy": "2022-11-22T04:36:27.417521Z",
          "iopub.status.idle": "2022-11-22T04:36:27.430035Z",
          "shell.execute_reply": "2022-11-22T04:36:27.429036Z",
          "shell.execute_reply.started": "2022-11-22T04:36:27.417521Z"
        },
        "tags": [],
        "colab": {
          "base_uri": "https://localhost:8080/"
        },
        "id": "nCjWCm4rlsf2",
        "outputId": "62bf0bc4-bc19-49d6-85cd-7774036531c8"
      },
      "outputs": [
        {
          "output_type": "stream",
          "name": "stdout",
          "text": [
            "0.9936166282859539\n"
          ]
        }
      ],
      "source": [
        " # List the best score\n",
        "print(grid.best_score_)"
      ]
    },
    {
      "cell_type": "code",
      "execution_count": null,
      "metadata": {
        "execution": {
          "iopub.execute_input": "2022-11-22T04:36:27.433052Z",
          "iopub.status.busy": "2022-11-22T04:36:27.432037Z",
          "iopub.status.idle": "2022-11-22T04:36:28.925025Z",
          "shell.execute_reply": "2022-11-22T04:36:28.923788Z",
          "shell.execute_reply.started": "2022-11-22T04:36:27.433052Z"
        },
        "colab": {
          "base_uri": "https://localhost:8080/"
        },
        "id": "G1PT5LB4lsf3",
        "outputId": "a76b8283-842b-40fd-9573-e8b948b350d5"
      },
      "outputs": [
        {
          "output_type": "stream",
          "name": "stdout",
          "text": [
            "Training Data Score: 0.9964213173421027\n",
            "Testing Data Score: 0.9945848375451264\n"
          ]
        }
      ],
      "source": [
        "print(f\"Training Data Score: {grid.score(X_train, y_train)}\")\n",
        "print(f\"Testing Data Score: {grid.score(X_test, y_test)}\")"
      ]
    },
    {
      "cell_type": "code",
      "execution_count": null,
      "metadata": {
        "execution": {
          "iopub.execute_input": "2022-11-22T04:36:28.927042Z",
          "iopub.status.busy": "2022-11-22T04:36:28.926039Z",
          "iopub.status.idle": "2022-11-22T04:36:29.415361Z",
          "shell.execute_reply": "2022-11-22T04:36:29.414362Z",
          "shell.execute_reply.started": "2022-11-22T04:36:28.927042Z"
        },
        "colab": {
          "base_uri": "https://localhost:8080/"
        },
        "id": "88gbc1BOlsf3",
        "outputId": "40d1bc8f-4a38-4eb3-9370-a792fd5da878"
      },
      "outputs": [
        {
          "output_type": "execute_result",
          "data": {
            "text/plain": [
              "array([2, 2, 3, ..., 2, 2, 3])"
            ]
          },
          "metadata": {},
          "execution_count": 45
        }
      ],
      "source": [
        "# Make predictions with the hypertuned model\n",
        "predictions_s = grid.predict(X_test)\n",
        "predictions_s"
      ]
    },
    {
      "cell_type": "code",
      "execution_count": null,
      "metadata": {
        "execution": {
          "iopub.execute_input": "2022-11-22T04:36:29.417361Z",
          "iopub.status.busy": "2022-11-22T04:36:29.416359Z",
          "iopub.status.idle": "2022-11-22T04:36:29.430802Z",
          "shell.execute_reply": "2022-11-22T04:36:29.429841Z",
          "shell.execute_reply.started": "2022-11-22T04:36:29.416359Z"
        },
        "colab": {
          "base_uri": "https://localhost:8080/"
        },
        "id": "PcXxHJzWlsf3",
        "outputId": "b43b9fb5-7ff9-4288-bd37-3c439d96b3ce"
      },
      "outputs": [
        {
          "output_type": "stream",
          "name": "stdout",
          "text": [
            "[[ 678    0    9    0]\n",
            " [   0 1582    0    0]\n",
            " [  14    0  944    0]\n",
            " [   0    0    1 1204]]\n"
          ]
        }
      ],
      "source": [
        "# Classification metrics\n",
        "from sklearn.metrics import confusion_matrix, classification_report\n",
        "\n",
        "cm = confusion_matrix(y_test, predictions_s)\n",
        "print(cm)"
      ]
    },
    {
      "cell_type": "code",
      "execution_count": null,
      "metadata": {
        "execution": {
          "iopub.execute_input": "2022-11-22T04:36:29.431802Z",
          "iopub.status.busy": "2022-11-22T04:36:29.431802Z",
          "iopub.status.idle": "2022-11-22T04:36:29.445803Z",
          "shell.execute_reply": "2022-11-22T04:36:29.445803Z",
          "shell.execute_reply.started": "2022-11-22T04:36:29.431802Z"
        },
        "colab": {
          "base_uri": "https://localhost:8080/",
          "height": 564
        },
        "id": "bjxiOvAClsf3",
        "outputId": "4d8ab3f6-fc92-4518-c591-2bf28b3fe0c3"
      },
      "outputs": [
        {
          "output_type": "display_data",
          "data": {
            "text/plain": [
              "<Figure size 800x600 with 2 Axes>"
            ],
            "image/png": "[encoded data removed]"
          },
          "metadata": {}
        }
      ],
      "source": [
        "cm = np.around(cm / cm.sum(axis=1)[:, np.newaxis], 2)\n",
        "import seaborn as sns\n",
        "import matplotlib.pyplot as plt\n",
        "# Plot the confusion matrix\n",
        "plt.figure(figsize=(8, 6))\n",
        "sns.heatmap(cm, annot=True, fmt='g', cmap='Set2')\n",
        "plt.xlabel('Predicted')\n",
        "plt.ylabel('Actual')\n",
        "plt.title('Confusion Matrix')\n",
        "plt.show()"
      ]
    },
    {
      "cell_type": "code",
      "execution_count": null,
      "metadata": {
        "execution": {
          "iopub.execute_input": "2022-11-22T04:36:29.447805Z",
          "iopub.status.busy": "2022-11-22T04:36:29.446805Z",
          "iopub.status.idle": "2022-11-22T04:36:29.462803Z",
          "shell.execute_reply": "2022-11-22T04:36:29.461803Z",
          "shell.execute_reply.started": "2022-11-22T04:36:29.447805Z"
        },
        "colab": {
          "base_uri": "https://localhost:8080/"
        },
        "id": "mL07x-Ehlsf3",
        "outputId": "5ff92bec-45fe-4030-9c1b-75f37019affc"
      },
      "outputs": [
        {
          "output_type": "stream",
          "name": "stdout",
          "text": [
            "              precision    recall  f1-score   support\n",
            "\n",
            "           0       0.98      0.99      0.98       687\n",
            "           1       1.00      1.00      1.00      1582\n",
            "           2       0.99      0.99      0.99       958\n",
            "           3       1.00      1.00      1.00      1205\n",
            "\n",
            "    accuracy                           0.99      4432\n",
            "   macro avg       0.99      0.99      0.99      4432\n",
            "weighted avg       0.99      0.99      0.99      4432\n",
            "\n"
          ]
        }
      ],
      "source": [
        "print(classification_report(y_test, predictions_s))"
      ]
    },
    {
      "cell_type": "code",
      "execution_count": null,
      "metadata": {
        "execution": {
          "iopub.execute_input": "2022-11-22T04:36:29.463804Z",
          "iopub.status.busy": "2022-11-22T04:36:29.463804Z",
          "iopub.status.idle": "2022-11-22T04:36:29.477809Z",
          "shell.execute_reply": "2022-11-22T04:36:29.476804Z",
          "shell.execute_reply.started": "2022-11-22T04:36:29.463804Z"
        },
        "colab": {
          "base_uri": "https://localhost:8080/"
        },
        "id": "zplmkgYUlsf4",
        "outputId": "72dd210f-d2c5-4beb-dde4-4d974ccc94b6"
      },
      "outputs": [
        {
          "output_type": "execute_result",
          "data": {
            "text/plain": [
              "array([2, 2, 3, ..., 2, 2, 3])"
            ]
          },
          "metadata": {},
          "execution_count": 60
        }
      ],
      "source": [
        "predictions_s"
      ]
    },
    {
      "cell_type": "code",
      "execution_count": null,
      "metadata": {
        "execution": {
          "iopub.execute_input": "2022-11-22T04:36:29.478805Z",
          "iopub.status.busy": "2022-11-22T04:36:29.478805Z",
          "iopub.status.idle": "2022-11-22T04:36:29.493804Z",
          "shell.execute_reply": "2022-11-22T04:36:29.492806Z",
          "shell.execute_reply.started": "2022-11-22T04:36:29.478805Z"
        },
        "id": "AfJiwgHAlsf4"
      },
      "outputs": [],
      "source": [
        "pred_s = grid.predict(X_test[:1])"
      ]
    },
    {
      "cell_type": "code",
      "execution_count": null,
      "metadata": {
        "execution": {
          "iopub.execute_input": "2022-11-22T04:36:29.495804Z",
          "iopub.status.busy": "2022-11-22T04:36:29.494804Z",
          "iopub.status.idle": "2022-11-22T04:36:29.509812Z",
          "shell.execute_reply": "2022-11-22T04:36:29.508806Z",
          "shell.execute_reply.started": "2022-11-22T04:36:29.495804Z"
        },
        "scrolled": true,
        "colab": {
          "base_uri": "https://localhost:8080/"
        },
        "id": "IvJQF2Ewlsf4",
        "outputId": "8a087e1f-c0b1-4d4f-c67f-54e880aa75d0"
      },
      "outputs": [
        {
          "output_type": "stream",
          "name": "stdout",
          "text": [
            "Predicted classes: [2]\n",
            "Actual Labels: [2]\n"
          ]
        }
      ],
      "source": [
        "print(f\"Predicted classes: {pred_s}\")\n",
        "print(f\"Actual Labels: {list(y_test[:1])}\")"
      ]
    },
    {
      "cell_type": "code",
      "execution_count": null,
      "metadata": {
        "id": "pu2lPAGblsf4"
      },
      "outputs": [],
      "source": []
    },
    {
      "cell_type": "markdown",
      "metadata": {
        "id": "HrhhCHt-lsf4"
      },
      "source": [
        "## Save the Models"
      ]
    },
    {
      "cell_type": "code",
      "execution_count": null,
      "metadata": {
        "execution": {
          "iopub.execute_input": "2022-11-22T04:36:29.511812Z",
          "iopub.status.busy": "2022-11-22T04:36:29.510813Z",
          "iopub.status.idle": "2022-11-22T04:36:29.556004Z",
          "shell.execute_reply": "2022-11-22T04:36:29.555013Z",
          "shell.execute_reply.started": "2022-11-22T04:36:29.511812Z"
        },
        "colab": {
          "base_uri": "https://localhost:8080/",
          "height": 176
        },
        "id": "DGxPVV_rlsf4",
        "outputId": "3ac52233-264f-423c-8efb-cb453e50c777"
      },
      "outputs": [
        {
          "output_type": "error",
          "ename": "NameError",
          "evalue": "name 'grid' is not defined",
          "traceback": [
            "\u001b[0;31m---------------------------------------------------------------------------\u001b[0m",
            "\u001b[0;31mNameError\u001b[0m                                 Traceback (most recent call last)",
            "\u001b[0;32m<ipython-input-1-0143d348627b>\u001b[0m in \u001b[0;36m<cell line: 5>\u001b[0;34m()\u001b[0m\n\u001b[1;32m      3\u001b[0m \u001b[0;31m# We are saving our grid model\u001b[0m\u001b[0;34m\u001b[0m\u001b[0;34m\u001b[0m\u001b[0m\n\u001b[1;32m      4\u001b[0m \u001b[0mfilename_nos\u001b[0m \u001b[0;34m=\u001b[0m \u001b[0;34m'SVM_model_nos.sav'\u001b[0m\u001b[0;34m\u001b[0m\u001b[0;34m\u001b[0m\u001b[0m\n\u001b[0;32m----> 5\u001b[0;31m \u001b[0mjoblib\u001b[0m\u001b[0;34m.\u001b[0m\u001b[0mdump\u001b[0m\u001b[0;34m(\u001b[0m\u001b[0mgrid\u001b[0m\u001b[0;34m,\u001b[0m \u001b[0mfilename_nos\u001b[0m\u001b[0;34m)\u001b[0m\u001b[0;34m\u001b[0m\u001b[0;34m\u001b[0m\u001b[0m\n\u001b[0m",
            "\u001b[0;31mNameError\u001b[0m: name 'grid' is not defined"
          ]
        }
      ],
      "source": [
        "import joblib\n",
        "\n",
        "# We are saving our grid model\n",
        "filename_nos = 'SVM_model_nos.sav'\n",
        "joblib.dump(grid, filename_nos)\n"
      ]
    },
    {
      "cell_type": "markdown",
      "metadata": {
        "id": "jFEyU5-ylsf5"
      },
      "source": [
        "## Loading the Model"
      ]
    },
    {
      "cell_type": "code",
      "execution_count": null,
      "metadata": {
        "execution": {
          "iopub.execute_input": "2022-11-22T04:36:29.557005Z",
          "iopub.status.busy": "2022-11-22T04:36:29.557005Z",
          "iopub.status.idle": "2022-11-22T04:36:30.253946Z",
          "shell.execute_reply": "2022-11-22T04:36:30.252947Z",
          "shell.execute_reply.started": "2022-11-22T04:36:29.557005Z"
        },
        "id": "Ia9JyCYXlsf5",
        "outputId": "59530b83-3e44-4977-87ff-59a347c26df0"
      },
      "outputs": [
        {
          "name": "stdout",
          "output_type": "stream",
          "text": [
            "0.8646666666666667\n",
            "0.7756666666666666\n"
          ]
        }
      ],
      "source": [
        "# load the models\n",
        "svm_model_nos = joblib.load(filename_nos)\n",
        "print(svm_model_nos.score(X_test, y_test))\n",
        "\n",
        "svm_model_s = joblib.load(filename_s)\n",
        "print(svm_model_s.score(X_test, y_test))"
      ]
    },
    {
      "cell_type": "code",
      "execution_count": null,
      "metadata": {
        "id": "cUFSp0Vllsf5"
      },
      "outputs": [],
      "source": []
    }
  ],
  "metadata": {
    "kernelspec": {
      "display_name": "bank-churn",
      "language": "python",
      "name": "conda-env-bank-churn-py"
    },
    "language_info": {
      "codemirror_mode": {
        "name": "ipython",
        "version": 3
      },
      "file_extension": ".py",
      "mimetype": "text/x-python",
      "name": "python",
      "nbconvert_exporter": "python",
      "pygments_lexer": "ipython3",
      "version": "3.9.15"
    },
    "colab": {
      "provenance": []
    }
  },
  "nbformat": 4,
  "nbformat_minor": 0
}